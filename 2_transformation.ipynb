{
 "cells": [
  {
   "cell_type": "code",
   "execution_count": 1,
   "metadata": {
    "datalore": {
     "hide_input_from_viewers": false,
     "hide_output_from_viewers": false,
     "type": "CODE"
    }
   },
   "outputs": [
    {
     "name": "stdout",
     "output_type": "stream",
     "text": [
      "Requirement already satisfied: pyspark in c:\\users\\danisant\\anaconda3\\lib\\site-packages (3.2.1)\n",
      "Requirement already satisfied: py4j==0.10.9.3 in c:\\users\\danisant\\anaconda3\\lib\\site-packages (from pyspark) (0.10.9.3)\n",
      "Requirement already satisfied: findspark in c:\\users\\danisant\\anaconda3\\lib\\site-packages (2.0.1)\n"
     ]
    }
   ],
   "source": [
    "# Instalação dos pacotes necessários\n",
    "!pip install pyspark\n",
    "!pip install findspark"
   ]
  },
  {
   "cell_type": "code",
   "execution_count": 2,
   "metadata": {
    "datalore": {
     "hide_input_from_viewers": false,
     "hide_output_from_viewers": false,
     "type": "CODE"
    }
   },
   "outputs": [],
   "source": [
    "#importando o findSpark\n",
    "\n",
    "\n",
    "import findspark\n",
    "findspark.init()"
   ]
  },
  {
   "cell_type": "code",
   "execution_count": 3,
   "metadata": {
    "datalore": {
     "hide_input_from_viewers": false,
     "hide_output_from_viewers": false,
     "type": "CODE"
    }
   },
   "outputs": [],
   "source": [
    "## importando bibliotecas necessárias\n",
    "\n",
    "from pyspark import SparkContext, SparkConf\n",
    "from pyspark.sql import SparkSession\n",
    "from pyspark.sql import functions as F\n",
    "from pyspark.sql.functions import col,when,count,lit,greatest,struct,expr,length,trim, ltrim, rtrim,udf\n",
    "from pyspark.sql.types import StructType, StructField, StringType, IntegerType, FloatType\n",
    "import numpy as np"
   ]
  },
  {
   "cell_type": "code",
   "execution_count": null,
   "metadata": {},
   "outputs": [],
   "source": [
    "### funções que irão auxiliar o tratamento de dados\n",
    "\n",
    "def higher_than(col, condition):\n",
    "    return (F.col(col) > condition )\n",
    "\n",
    "def between(col, lower_condition, higher_condition):\n",
    "    return ( F.col(col).between(lower_condition, higher_condition) )\n",
    "\n",
    "def lower_than(col, condition):\n",
    "    return (F.col(col) < condition )\n",
    "\n",
    "def equal(col, condition):\n",
    "    return (F.col(col) == condition )"
   ]
  },
  {
   "cell_type": "code",
   "execution_count": null,
   "metadata": {},
   "outputs": [],
   "source": [
    "# Criação do contexto do spark\n",
    "sc = SparkContext()\n",
    "\n",
    "# Instância do criador de sessão do spark\n",
    "spark = (SparkSession.builder\n",
    "                     .master(\"local[*]\")\n",
    "                     .appName(\"Aceleração PySpark - Transformation - Capgemini\"))"
   ]
  },
  {
   "cell_type": "markdown",
   "metadata": {
    "datalore": {
     "hide_input_from_viewers": false,
     "hide_output_from_viewers": false,
     "type": "MD"
    }
   },
   "source": [
    "##  Dataset airports.csv :"
   ]
  },
  {
   "cell_type": "code",
   "execution_count": null,
   "metadata": {},
   "outputs": [],
   "source": [
    "# Leitura/Carga do dataset\n",
    "\n",
    "df_airports = (spark.getOrCreate().read\n",
    "                  .format(\"csv\")\n",
    "                  .option(\"header\", \"true\")\n",
    "                  .schema(schema_airports)\n",
    "                  .load(\"C:/Users/danisant/Codes/airports.csv\"))"
   ]
  },
  {
   "cell_type": "code",
   "execution_count": null,
   "metadata": {},
   "outputs": [],
   "source": [
    "#Visões Temporárias - não altera a estrutura original\n",
    "\n",
    "df_airports.createOrReplaceTempView('airports')"
   ]
  },
  {
   "cell_type": "markdown",
   "metadata": {
    "datalore": {
     "hide_input_from_viewers": false,
     "hide_output_from_viewers": false,
     "type": "MD"
    }
   },
   "source": [
    "#### Pergunta 1"
   ]
  },
  {
   "cell_type": "code",
   "execution_count": 9,
   "metadata": {
    "datalore": {
     "hide_input_from_viewers": false,
     "hide_output_from_viewers": false,
     "type": "CODE"
    }
   },
   "outputs": [
    {
     "name": "stdout",
     "output_type": "stream",
     "text": [
      "+---+----+----+----+----+----+----+------+\n",
      "|faa|name| lat| lon| alt|  tz| dst|qa_faa|\n",
      "+---+----+----+----+----+----+----+------+\n",
      "|  0| 04G|null|null|null|null|null|     F|\n",
      "|  1| 06A|null|null|null|null|null|     F|\n",
      "|  2| 06C|null|null|null|null|null|     F|\n",
      "|  3| 06N|null|null|null|null|null|     F|\n",
      "|  4| 09J|null|null|null|null|null|     F|\n",
      "|  5| 0A9|null|null|null|null|null|     F|\n",
      "|  6| 0G6|null|null|null|null|null|     F|\n",
      "|  7| 0G7|null|null|null|null|null|     F|\n",
      "|  8| 0P2|null|null|null|null|null|     F|\n",
      "|  9| 0S9|null|null|null|null|null|     F|\n",
      "| 10| 0W3|null|null|null|null|null|     F|\n",
      "| 11| 10C|null|null|null|null|null|     F|\n",
      "| 12| 17G|null|null|null|null|null|     F|\n",
      "| 13| 19A|null|null|null|null|null|     F|\n",
      "| 14| 1A3|null|null|null|null|null|     F|\n",
      "| 15| 1B9|null|null|null|null|null|     F|\n",
      "| 16| 1C9|null|null|null|null|null|     F|\n",
      "| 17| 1CS|null|null|null|null|null|     F|\n",
      "| 18| 1G3|null|null|null|null|null|     F|\n",
      "| 19| 1OH|null|null|null|null|null|     F|\n",
      "+---+----+----+----+----+----+----+------+\n",
      "only showing top 20 rows\n",
      "\n"
     ]
    }
   ],
   "source": [
    "# Atendendo os requisitos\n",
    "\n",
    "\n",
    "df_airports = df_airports.withColumn('alt', (\n",
    "                 F.when(lower_than('alt', 0), 0 )\n",
    "                 .otherwise(F.col('alt'))\n",
    "))\n"
   ]
  },
  {
   "cell_type": "code",
   "execution_count": null,
   "metadata": {},
   "outputs": [],
   "source": [
    "### verificando a coluna alt após o tratamento realizado\n",
    "\n",
    "df_airports.where(df_airports.alt < 0).show()"
   ]
  },
  {
   "cell_type": "markdown",
   "metadata": {
    "datalore": {
     "hide_input_from_viewers": false,
     "hide_output_from_viewers": false,
     "type": "MD"
    }
   },
   "source": [
    "#### Pergunta 2"
   ]
  },
  {
   "cell_type": "code",
   "execution_count": 10,
   "metadata": {
    "datalore": {
     "hide_input_from_viewers": false,
     "hide_output_from_viewers": false,
     "type": "CODE"
    }
   },
   "outputs": [
    {
     "name": "stdout",
     "output_type": "stream",
     "text": [
      "+---+----+----+----+----+----+----+-------+\n",
      "|faa|name| lat| lon| alt|  tz| dst|qa_name|\n",
      "+---+----+----+----+----+----+----+-------+\n",
      "|  0| 04G|null|null|null|null|null|   null|\n",
      "|  1| 06A|null|null|null|null|null|   null|\n",
      "|  2| 06C|null|null|null|null|null|   null|\n",
      "|  3| 06N|null|null|null|null|null|   null|\n",
      "|  4| 09J|null|null|null|null|null|   null|\n",
      "|  5| 0A9|null|null|null|null|null|   null|\n",
      "|  6| 0G6|null|null|null|null|null|   null|\n",
      "|  7| 0G7|null|null|null|null|null|   null|\n",
      "|  8| 0P2|null|null|null|null|null|   null|\n",
      "|  9| 0S9|null|null|null|null|null|   null|\n",
      "| 10| 0W3|null|null|null|null|null|   null|\n",
      "| 11| 10C|null|null|null|null|null|   null|\n",
      "| 12| 17G|null|null|null|null|null|   null|\n",
      "| 13| 19A|null|null|null|null|null|   null|\n",
      "| 14| 1A3|null|null|null|null|null|   null|\n",
      "| 15| 1B9|null|null|null|null|null|   null|\n",
      "| 16| 1C9|null|null|null|null|null|   null|\n",
      "| 17| 1CS|null|null|null|null|null|   null|\n",
      "| 18| 1G3|null|null|null|null|null|   null|\n",
      "| 19| 1OH|null|null|null|null|null|   null|\n",
      "+---+----+----+----+----+----+----+-------+\n",
      "only showing top 20 rows\n",
      "\n"
     ]
    }
   ],
   "source": [
    "# Atendendo os requisitos\n",
    "\n",
    "df_airports = df_airports.withColumn('dst', F.when(F.col('tz').between(-7,-5), 'A').otherwise(F.col('dst')))\n",
    "\n"
   ]
  },
  {
   "cell_type": "code",
   "execution_count": null,
   "metadata": {},
   "outputs": [],
   "source": [
    "### verificando a coluna dst após tratamento\n",
    "\n",
    "spark.getOrCreate().sql(\"select distinct(dst) from airports where tz between -7 and -5\").show()"
   ]
  },
  {
   "cell_type": "markdown",
   "metadata": {
    "datalore": {
     "hide_input_from_viewers": false,
     "hide_output_from_viewers": false,
     "type": "MD"
    }
   },
   "source": [
    "#### Pergunta 3"
   ]
  },
  {
   "cell_type": "code",
   "execution_count": 11,
   "metadata": {
    "datalore": {
     "hide_input_from_viewers": false,
     "hide_output_from_viewers": false,
     "type": "CODE"
    }
   },
   "outputs": [
    {
     "name": "stdout",
     "output_type": "stream",
     "text": [
      "+---+----+----+----+----+----+----+------+\n",
      "|faa|name| lat| lon| alt|  tz| dst|qa_lat|\n",
      "+---+----+----+----+----+----+----+------+\n",
      "|  0| 04G|null|null|null|null|null|  null|\n",
      "|  1| 06A|null|null|null|null|null|  null|\n",
      "|  2| 06C|null|null|null|null|null|  null|\n",
      "|  3| 06N|null|null|null|null|null|  null|\n",
      "|  4| 09J|null|null|null|null|null|  null|\n",
      "|  5| 0A9|null|null|null|null|null|  null|\n",
      "|  6| 0G6|null|null|null|null|null|  null|\n",
      "|  7| 0G7|null|null|null|null|null|  null|\n",
      "|  8| 0P2|null|null|null|null|null|  null|\n",
      "|  9| 0S9|null|null|null|null|null|  null|\n",
      "| 10| 0W3|null|null|null|null|null|  null|\n",
      "| 11| 10C|null|null|null|null|null|  null|\n",
      "| 12| 17G|null|null|null|null|null|  null|\n",
      "| 13| 19A|null|null|null|null|null|  null|\n",
      "| 14| 1A3|null|null|null|null|null|  null|\n",
      "| 15| 1B9|null|null|null|null|null|  null|\n",
      "| 16| 1C9|null|null|null|null|null|  null|\n",
      "| 17| 1CS|null|null|null|null|null|  null|\n",
      "| 18| 1G3|null|null|null|null|null|  null|\n",
      "| 19| 1OH|null|null|null|null|null|  null|\n",
      "+---+----+----+----+----+----+----+------+\n",
      "only showing top 20 rows\n",
      "\n"
     ]
    }
   ],
   "source": [
    "# Atendendo os requisitos\n",
    "\n",
    "\n",
    "df_airports = df_airports.withColumn('dst',(\n",
    "                    F.when(equal('dst', 'U'), 'A')\n",
    "                    .otherwise(F.col('dst'))\n",
    "))"
   ]
  },
  {
   "cell_type": "code",
   "execution_count": null,
   "metadata": {},
   "outputs": [],
   "source": [
    "### verificando a coluna dst após o tratamento realizado\n",
    "\n",
    "df_airports.where(df_airports.dst == 'U').show()"
   ]
  },
  {
   "cell_type": "markdown",
   "metadata": {
    "datalore": {
     "hide_input_from_viewers": false,
     "hide_output_from_viewers": false,
     "type": "MD"
    }
   },
   "source": [
    "#### Pergunta 4"
   ]
  },
  {
   "cell_type": "code",
   "execution_count": 12,
   "metadata": {
    "datalore": {
     "hide_input_from_viewers": false,
     "hide_output_from_viewers": false,
     "type": "CODE"
    }
   },
   "outputs": [
    {
     "name": "stdout",
     "output_type": "stream",
     "text": [
      "+---+----+----+----+----+----+----+------+\n",
      "|faa|name| lat| lon| alt|  tz| dst|qa_lon|\n",
      "+---+----+----+----+----+----+----+------+\n",
      "|  0| 04G|null|null|null|null|null|  null|\n",
      "|  1| 06A|null|null|null|null|null|  null|\n",
      "|  2| 06C|null|null|null|null|null|  null|\n",
      "|  3| 06N|null|null|null|null|null|  null|\n",
      "|  4| 09J|null|null|null|null|null|  null|\n",
      "|  5| 0A9|null|null|null|null|null|  null|\n",
      "|  6| 0G6|null|null|null|null|null|  null|\n",
      "|  7| 0G7|null|null|null|null|null|  null|\n",
      "|  8| 0P2|null|null|null|null|null|  null|\n",
      "|  9| 0S9|null|null|null|null|null|  null|\n",
      "| 10| 0W3|null|null|null|null|null|  null|\n",
      "| 11| 10C|null|null|null|null|null|  null|\n",
      "| 12| 17G|null|null|null|null|null|  null|\n",
      "| 13| 19A|null|null|null|null|null|  null|\n",
      "| 14| 1A3|null|null|null|null|null|  null|\n",
      "| 15| 1B9|null|null|null|null|null|  null|\n",
      "| 16| 1C9|null|null|null|null|null|  null|\n",
      "| 17| 1CS|null|null|null|null|null|  null|\n",
      "| 18| 1G3|null|null|null|null|null|  null|\n",
      "| 19| 1OH|null|null|null|null|null|  null|\n",
      "+---+----+----+----+----+----+----+------+\n",
      "only showing top 20 rows\n",
      "\n"
     ]
    }
   ],
   "source": [
    "# Atendendo os requisitos\n",
    "\n",
    "df_airports = df_airports.withColumn('region', (\n",
    "                    F.when(lower_than('lon', -124), 'ALASKA')\n",
    "                     .when(higher_than('lon', -50) | lower_than('lat',  24), 'OFFSHORE')\n",
    "                     .when(lower_than('lon', -95) | equal('lon', -95), 'MAINLAND-WEST')\n",
    "                     .when(higher_than('lon', -95), 'MAINLAND-EAST')\n",
    "                     .otherwise(None)\n",
    "))\n",
    "                                    \n",
    "    "
   ]
  },
  {
   "cell_type": "code",
   "execution_count": null,
   "metadata": {},
   "outputs": [],
   "source": [
    "### verificando a coluna region após o tratamento\n",
    "\n",
    "\n",
    "df_airports.where(df_airports.region =='ALASKA').show()"
   ]
  },
  {
   "cell_type": "markdown",
   "metadata": {
    "datalore": {
     "hide_input_from_viewers": false,
     "hide_output_from_viewers": false,
     "type": "MD"
    }
   },
   "source": [
    "#### Pergunta 5"
   ]
  },
  {
   "cell_type": "code",
   "execution_count": 13,
   "metadata": {
    "datalore": {
     "hide_input_from_viewers": false,
     "hide_output_from_viewers": false,
     "type": "CODE"
    }
   },
   "outputs": [
    {
     "name": "stdout",
     "output_type": "stream",
     "text": [
      "+---+----+----+----+----+----+----+------+\n",
      "|faa|name| lat| lon| alt|  tz| dst|qa_alt|\n",
      "+---+----+----+----+----+----+----+------+\n",
      "|  0| 04G|null|null|null|null|null|  null|\n",
      "|  1| 06A|null|null|null|null|null|  null|\n",
      "|  2| 06C|null|null|null|null|null|  null|\n",
      "|  3| 06N|null|null|null|null|null|  null|\n",
      "|  4| 09J|null|null|null|null|null|  null|\n",
      "|  5| 0A9|null|null|null|null|null|  null|\n",
      "|  6| 0G6|null|null|null|null|null|  null|\n",
      "|  7| 0G7|null|null|null|null|null|  null|\n",
      "|  8| 0P2|null|null|null|null|null|  null|\n",
      "|  9| 0S9|null|null|null|null|null|  null|\n",
      "| 10| 0W3|null|null|null|null|null|  null|\n",
      "| 11| 10C|null|null|null|null|null|  null|\n",
      "| 12| 17G|null|null|null|null|null|  null|\n",
      "| 13| 19A|null|null|null|null|null|  null|\n",
      "| 14| 1A3|null|null|null|null|null|  null|\n",
      "| 15| 1B9|null|null|null|null|null|  null|\n",
      "| 16| 1C9|null|null|null|null|null|  null|\n",
      "| 17| 1CS|null|null|null|null|null|  null|\n",
      "| 18| 1G3|null|null|null|null|null|  null|\n",
      "| 19| 1OH|null|null|null|null|null|  null|\n",
      "+---+----+----+----+----+----+----+------+\n",
      "only showing top 20 rows\n",
      "\n"
     ]
    }
   ],
   "source": [
    "# Atendendo os requisitos\n",
    "\n",
    "df_airports = df_airports.withColumn('type',(\n",
    "                    F.when(F.col('name').rlike('Airport|Tradeport|Heliport|Airpor|Arpt' ), 'AP')\n",
    "                     .when(F.col('name').rlike('Aerodrome'), 'AD')\n",
    "                     .when(F.col('name').rlike('Airpark|Aero Park' ), 'AK')\n",
    "                     .when(F.col('name').rlike('Station|Air Station'), 'AS')\n",
    "                     .when(F.col('name').rlike('Field|Fld'), 'FL')\n",
    "                     .otherwise(None)\n",
    "))"
   ]
  },
  {
   "cell_type": "code",
   "execution_count": null,
   "metadata": {},
   "outputs": [],
   "source": [
    "### verificando a coluna type após o tratamento realizado\n",
    "\n",
    "df_airports.where((F.col('type') != 'AP') &\n",
    "              (F.col('type') != 'AD') &\n",
    "              (F.col('type') != 'AK') &\n",
    "              (F.col('type') != 'AS') &\n",
    "              (F.col('type') == 'FL') \n",
    "             ).show()"
   ]
  },
  {
   "cell_type": "markdown",
   "metadata": {
    "datalore": {
     "hide_input_from_viewers": false,
     "hide_output_from_viewers": false,
     "type": "MD"
    }
   },
   "source": [
    "#### Pergunta 6"
   ]
  },
  {
   "cell_type": "code",
   "execution_count": 14,
   "metadata": {
    "datalore": {
     "hide_input_from_viewers": false,
     "hide_output_from_viewers": false,
     "type": "CODE"
    }
   },
   "outputs": [
    {
     "name": "stdout",
     "output_type": "stream",
     "text": [
      "+---+----+----+----+----+----+----+-----+\n",
      "|faa|name| lat| lon| alt|  tz| dst|qa_tz|\n",
      "+---+----+----+----+----+----+----+-----+\n",
      "|  0| 04G|null|null|null|null|null|    M|\n",
      "|  1| 06A|null|null|null|null|null|    M|\n",
      "|  2| 06C|null|null|null|null|null|    M|\n",
      "|  3| 06N|null|null|null|null|null|    M|\n",
      "|  4| 09J|null|null|null|null|null|    M|\n",
      "|  5| 0A9|null|null|null|null|null|    M|\n",
      "|  6| 0G6|null|null|null|null|null|    M|\n",
      "|  7| 0G7|null|null|null|null|null|    M|\n",
      "|  8| 0P2|null|null|null|null|null|    M|\n",
      "|  9| 0S9|null|null|null|null|null|    M|\n",
      "| 10| 0W3|null|null|null|null|null|    M|\n",
      "| 11| 10C|null|null|null|null|null|    M|\n",
      "| 12| 17G|null|null|null|null|null|    M|\n",
      "| 13| 19A|null|null|null|null|null|    M|\n",
      "| 14| 1A3|null|null|null|null|null|    M|\n",
      "| 15| 1B9|null|null|null|null|null|    M|\n",
      "| 16| 1C9|null|null|null|null|null|    M|\n",
      "| 17| 1CS|null|null|null|null|null|    M|\n",
      "| 18| 1G3|null|null|null|null|null|    M|\n",
      "| 19| 1OH|null|null|null|null|null|    M|\n",
      "+---+----+----+----+----+----+----+-----+\n",
      "only showing top 20 rows\n",
      "\n"
     ]
    }
   ],
   "source": [
    "### atendendo os requisitos\n",
    "\n",
    "MILITARY = [\"Base\", \"Aaf\", \"AFs\", \"Ahp\", \"Afb\", \"LRRS\", \"Lrrs\", \"Arb\", \"Naf\", \"NAS\", \"Nas\", \"Jrb\", \"Ns\", \"As\", \"Cgas\", \"Angb\"]\n",
    "\n",
    "REGEX_MILITARY = r'|'.join(map(lambda x : f\".*({x}).*\", MILITARY))\n",
    "\n",
    "df_airports = df_airports.withColumn('military', (\n",
    "                    F.when(F.col('name').rlike(REGEX_MILITARY), True)\n",
    "                     .otherwise(False)))  "
   ]
  },
  {
   "cell_type": "code",
   "execution_count": null,
   "metadata": {},
   "outputs": [],
   "source": [
    "### verificando a coluna military pós tratamento\n",
    "\n",
    "print(df_airports.where(F.col('military') == True).count())\n",
    "print(df_airports.where(F.col('military') == False).count())"
   ]
  },
  {
   "cell_type": "markdown",
   "metadata": {
    "datalore": {
     "hide_input_from_viewers": false,
     "hide_output_from_viewers": false,
     "type": "MD"
    }
   },
   "source": [
    "#### Pergunta 7"
   ]
  },
  {
   "cell_type": "code",
   "execution_count": 15,
   "metadata": {
    "datalore": {
     "hide_input_from_viewers": false,
     "hide_output_from_viewers": false,
     "type": "CODE"
    }
   },
   "outputs": [
    {
     "name": "stdout",
     "output_type": "stream",
     "text": [
      "+---+----+----+----+----+----+----+------+\n",
      "|faa|name| lat| lon| alt|  tz| dst|qa_dst|\n",
      "+---+----+----+----+----+----+----+------+\n",
      "|  0| 04G|null|null|null|null|null|     M|\n",
      "|  1| 06A|null|null|null|null|null|     M|\n",
      "|  2| 06C|null|null|null|null|null|     M|\n",
      "|  3| 06N|null|null|null|null|null|     M|\n",
      "|  4| 09J|null|null|null|null|null|     M|\n",
      "|  5| 0A9|null|null|null|null|null|     M|\n",
      "|  6| 0G6|null|null|null|null|null|     M|\n",
      "|  7| 0G7|null|null|null|null|null|     M|\n",
      "|  8| 0P2|null|null|null|null|null|     M|\n",
      "|  9| 0S9|null|null|null|null|null|     M|\n",
      "| 10| 0W3|null|null|null|null|null|     M|\n",
      "| 11| 10C|null|null|null|null|null|     M|\n",
      "| 12| 17G|null|null|null|null|null|     M|\n",
      "| 13| 19A|null|null|null|null|null|     M|\n",
      "| 14| 1A3|null|null|null|null|null|     M|\n",
      "| 15| 1B9|null|null|null|null|null|     M|\n",
      "| 16| 1C9|null|null|null|null|null|     M|\n",
      "| 17| 1CS|null|null|null|null|null|     M|\n",
      "| 18| 1G3|null|null|null|null|null|     M|\n",
      "| 19| 1OH|null|null|null|null|null|     M|\n",
      "+---+----+----+----+----+----+----+------+\n",
      "only showing top 20 rows\n",
      "\n"
     ]
    }
   ],
   "source": [
    "# Atendendo os requisitos\n",
    "\n",
    "\n",
    "df_airports = df_airports.withColumn('administration', (\n",
    "                    F.when(F.col('name').rlike('International|Intl|Intercontinental'), 'I')\n",
    "                     .when(F.col('name').rlike('National|Natl'), 'N')\n",
    "                     .when(F.col('name').rlike('Regional|Reigonal|Rgnl|County|Metro|Metropolitan'), 'R')\n",
    "                     .when(F.col('name').rlike('Municipal|Muni|City'), 'M')\n",
    "                     .otherwise(None)))  "
   ]
  },
  {
   "cell_type": "code",
   "execution_count": null,
   "metadata": {},
   "outputs": [],
   "source": [
    "### verificando a coluna administration pós tratamento\n",
    "\n",
    "df_airports.where(df_airports.administration.isNull()).show(10)"
   ]
  },
  {
   "cell_type": "markdown",
   "metadata": {
    "datalore": {
     "hide_input_from_viewers": false,
     "hide_output_from_viewers": false,
     "type": "MD"
    }
   },
   "source": [
    "### Gerando arquivo .parquet"
   ]
  },
  {
   "cell_type": "code",
   "execution_count": 16,
   "metadata": {
    "datalore": {
     "hide_input_from_viewers": false,
     "hide_output_from_viewers": false,
     "type": "CODE"
    }
   },
   "outputs": [],
   "source": [
    "(df_airports.repartition(1) \n",
    "            .write.format(\"parquet\")\n",
    "            .mode('overwrite')\n",
    "            .option(\"header\", \"true\")\n",
    ".save(\"/data/workspace_files/airport_tf.parquet\")\n",
    ")"
   ]
  },
  {
   "cell_type": "code",
   "execution_count": null,
   "metadata": {},
   "outputs": [],
   "source": []
  },
  {
   "cell_type": "markdown",
   "metadata": {},
   "source": [
    "## Dataset planes.csv:"
   ]
  },
  {
   "cell_type": "code",
   "execution_count": null,
   "metadata": {},
   "outputs": [],
   "source": [
    "# Leitura/Carga do dataset\n",
    "\n",
    "\n",
    "df_planes = (spark.getOrCreate().read\n",
    "                  .format(\"csv\")\n",
    "                  .option(\"header\", \"true\")\n",
    "                  .schema(schema_planes)\n",
    "                  .load(\"/data/workspace_files/planes.csv\"))\n"
   ]
  },
  {
   "cell_type": "code",
   "execution_count": null,
   "metadata": {},
   "outputs": [],
   "source": [
    "#Visão Temporária - não altera a estrutura original\n",
    "\n",
    "\n",
    "df_planes.createOrReplaceTempView('planes')"
   ]
  },
  {
   "cell_type": "markdown",
   "metadata": {},
   "source": [
    "#### Pergunta 1"
   ]
  },
  {
   "cell_type": "code",
   "execution_count": null,
   "metadata": {},
   "outputs": [],
   "source": [
    "# Atendendo os requisitos\n",
    "\n",
    "\n",
    "\n",
    "df_planes = df_planes.withColumn ('tailchar', \n",
    "               F.regexp_replace(F.col(\"tailnum\"), '[0-9]|^N', \"\")\n",
    "                \n",
    "                    )"
   ]
  },
  {
   "cell_type": "code",
   "execution_count": null,
   "metadata": {},
   "outputs": [],
   "source": [
    " #leitura do dataframe tratado\n",
    "\n",
    "\n",
    "df_planes.show()"
   ]
  },
  {
   "cell_type": "markdown",
   "metadata": {},
   "source": [
    "#### Pergunta 2"
   ]
  },
  {
   "cell_type": "code",
   "execution_count": null,
   "metadata": {},
   "outputs": [],
   "source": [
    "# Atendendo os requisitos\n",
    "\n",
    "## - comentar linha desejada para testagem em seperado\n",
    "\n",
    "df_planes = df_planes.withColumn('year', \n",
    "                   F.when(F.col('year') ==0, 1996).otherwise(F.col('year'))\n",
    ")\n"
   ]
  },
  {
   "cell_type": "code",
   "execution_count": null,
   "metadata": {},
   "outputs": [],
   "source": [
    "#leitura do dataframe tratado\n",
    "\n",
    "df_planes.filter(df_planes[\"year\"]==1996\n",
    "                 ).show(5)"
   ]
  },
  {
   "cell_type": "markdown",
   "metadata": {},
   "source": [
    "#### Pergunta 3"
   ]
  },
  {
   "cell_type": "code",
   "execution_count": null,
   "metadata": {},
   "outputs": [],
   "source": [
    "#Atendendo aos requisitos\n",
    "#criando df auxiliar com o ano mais recente para cada manufacturer e model\n",
    "\n",
    "df_aux1 = df_planes.select('manufacturer', 'model', 'year').groupBy('manufacturer', 'model').agg(F.min('year').alias('aux_year_1')).orderBy(F.col('manufacturer'), F.col('model'))\n",
    "\n",
    "df_aux2 = df_planes.select('manufacturer', 'year').groupBy('manufacturer').agg(F.min('year').alias('aux_year_2')).orderBy(F.col('manufacturer'))\n",
    "\n",
    "df_aux1 = df_aux1.withColumnRenamed('manufacturer', 'manufacturer_aux1').withColumnRenamed('model', 'model_aux1')\n",
    "\n",
    "df_aux2 = df_aux2.withColumnRenamed('manufacturer', 'manufacturer_aux2')\n",
    "\n",
    "condition = [df_planes.model == df_aux1.model_aux1, df_planes.manufacturer == df_aux1.manufacturer_aux1]\n",
    "\n",
    "df_aux3 = df_planes.join(df_aux1, condition, 'left').withColumnRenamed('aux_year_1', 'aux_year_first_condition')\n",
    "\n",
    "df_aux3 = df_aux3.drop('manufacturer_aux1', 'model_aux1')\n",
    "  \n",
    "condition1 = [df_aux3.manufacturer == df_aux2.manufacturer_aux2]\n",
    "\n",
    "df_aux4 = df_aux3.join(df_aux2, condition1, 'left').withColumnRenamed('aux_year_2', 'aux_year_second_condition')\n",
    "\n",
    "df_aux4 = df_aux4.drop('manufacturer_aux2') "
   ]
  },
  {
   "cell_type": "code",
   "execution_count": null,
   "metadata": {},
   "outputs": [],
   "source": [
    "### seguindo com o tratamento e verificando se as condições foram atendidas\n",
    "\n",
    "df = df_aux4.withColumn('year', F.when(F.col('year').isNull(), F.col('aux_year_first_condition'))\n",
    "                                 .otherwise(F.col('aux_year_first_condition'))\n",
    "                       )\n",
    "\n",
    "df = df_aux4.withColumn('year', F.when(F.col('aux_year_first_condition').isNull(), F.col('aux_year_second_condition'))\n",
    "                                 .otherwise(F.col('aux_year_first_condition'))\n",
    "                       )\n",
    "                               \n",
    "df = df.select('year', 'manufacturer', 'model', 'aux_year_first_condition', 'aux_year_second_condition')\n",
    "\n",
    "df.createOrReplaceTempView('planes')\n",
    "\n",
    "spark.getOrCreate().sql(\"select * from planes where year is Null\").show()"
   ]
  },
  {
   "cell_type": "markdown",
   "metadata": {},
   "source": [
    "#### Pergunta 4"
   ]
  },
  {
   "cell_type": "code",
   "execution_count": null,
   "metadata": {},
   "outputs": [],
   "source": [
    "## Atendendo os requisitos\n",
    "\n",
    "df_planes = df_planes.withColumn('age', (F.year(F.current_date()))-F.col('year'))\n",
    "\n",
    "### exibindo a coluna age de acordo com o tratamento realizado\n",
    "\n",
    "df_planes.select(\"age\").distinct().show(5)"
   ]
  },
  {
   "cell_type": "markdown",
   "metadata": {},
   "source": [
    "#### Pergunta 5"
   ]
  },
  {
   "cell_type": "code",
   "execution_count": null,
   "metadata": {},
   "outputs": [],
   "source": [
    "# Atendendo os requisitos\n",
    "\n",
    "\n",
    "\n",
    "df_planes = df_planes.withColumn(\"type\",\n",
    "                                when(df_planes[\"type\"]==\"Fixed wing multi engine\", \"MULTI_ENG\")\n",
    "                                .when(df_planes[\"type\"]==\"Fixed wing single engine\", \"SINGLE_ENG\")\n",
    "                                .when(df_planes[\"type\"]==\"Rotorcraft\", \"ROTORCRAFT\")\n",
    "\n",
    "\n",
    ")\n",
    "df_planes.show(50)"
   ]
  },
  {
   "cell_type": "code",
   "execution_count": null,
   "metadata": {},
   "outputs": [],
   "source": [
    "### exibindo a coluna type de acordo com o tratamento realizado\n",
    "\n",
    "\n",
    "df_planes.filter(df_planes['type']!= 'MULTI_ENG').show()"
   ]
  },
  {
   "cell_type": "markdown",
   "metadata": {},
   "source": [
    "#### Pergunta 6"
   ]
  },
  {
   "cell_type": "code",
   "execution_count": null,
   "metadata": {},
   "outputs": [],
   "source": [
    "# Atendendo os requisitos\n",
    "\n",
    "df_planes = df_planes.withColumn('manufacturer', F.when(F.col('manufacturer') == 'AIRBUS INDUSTRIE', 'AIRBUS')\n",
    "                                           .when(F.col('manufacturer') == 'BOMBARDIER INC', 'BOMBARDIER') \n",
    "                                           .when(F.col('manufacturer').rlike('MCDONNELL DOUGLAS...'), 'MCDONNELL DOUGLAS')\n",
    "                                           .when(F.col('manufacturer') == 'CIRRUS DESIGN CORP', 'CIRRUS')\n",
    "                                           .when(F.col('manufacturer') == 'BARKER JACK L', 'BARKER JACK')\n",
    "                                           .when(F.col('manufacturer').rlike('ROBINSON HELICOPT...'), 'ROBINSON HELICOPTER')\n",
    "                                           .when(F.col('manufacturer') == 'GULFSTREAM AEROSPACE', 'GULFSTREAM')\n",
    "                                           .otherwise(F.col('manufacturer'))\n",
    "                         )\n"
   ]
  },
  {
   "cell_type": "code",
   "execution_count": null,
   "metadata": {},
   "outputs": [],
   "source": [
    "### Consultando a coluna manufacturer de acordo com o tratamento realizado\n",
    "\n",
    "spark.getOrCreate().sql(\"select distinct(manufacturer) from planes order by manufacturer\").show()"
   ]
  },
  {
   "cell_type": "markdown",
   "metadata": {},
   "source": [
    "#### Pergunta 7"
   ]
  },
  {
   "cell_type": "code",
   "execution_count": null,
   "metadata": {},
   "outputs": [],
   "source": [
    "# Atendendo os requisitos\n",
    "\n",
    "df_planes = df_planes.withColumn('model',(\n",
    "                    F.when( df_planes.model.contains(\"(\"), F.regexp_replace(df_planes.model, '\\([^()]*\\)', '' ))\n",
    "                    .otherwise(df_planes.model)\n",
    "))\n",
    "df_planes = df_planes.withColumn('model',(\n",
    "            F.trim(df_planes.model)\n",
    "))\n",
    "\n"
   ]
  },
  {
   "cell_type": "code",
   "execution_count": null,
   "metadata": {},
   "outputs": [],
   "source": [
    "### verificando a coluna model de acordo com o tratamento realizado\n",
    "\n",
    "\n",
    "df_planes.select('model').distinct().sort('model').show(5,truncate = False)"
   ]
  },
  {
   "cell_type": "markdown",
   "metadata": {},
   "source": [
    "#### Pergunta 8"
   ]
  },
  {
   "cell_type": "code",
   "execution_count": null,
   "metadata": {},
   "outputs": [],
   "source": [
    "### atendendo aos requisitos\n",
    "\n",
    "df_planes = df_planes.withColumn('speed',\n",
    "                              F.when(F.col('speed').isNull(), F.ceil(F.col('seats') / 0.36)))"
   ]
  },
  {
   "cell_type": "code",
   "execution_count": null,
   "metadata": {},
   "outputs": [],
   "source": [
    "### atendendo aos requisitos\n",
    "\n",
    "df_planes = df_planes.withColumn('speed',\n",
    "                              F.when(F.col('speed').isNull(), F.ceil(F.col('seats') / 0.36)))"
   ]
  },
  {
   "cell_type": "markdown",
   "metadata": {},
   "source": [
    "#### Pergunta 9"
   ]
  },
  {
   "cell_type": "code",
   "execution_count": null,
   "metadata": {},
   "outputs": [],
   "source": [
    "### atendendo aos requisitos\n",
    "\n",
    "df_planes = df_planes.withColumn('engine_split',(\n",
    "                 F.split(df_planes.engine, '-')[1]\n",
    "))\n",
    "\n",
    "df_planes.select('engine_split').distinct().show()"
   ]
  },
  {
   "cell_type": "code",
   "execution_count": null,
   "metadata": {},
   "outputs": [],
   "source": [
    "df_planes = df_planes.withColumn('engine_type',(\n",
    "                    F.when(df_planes.engine_split == 'jet', 'JET')\n",
    "                    .when(df_planes.engine_split == 'fan', 'FAN')\n",
    "                    .when(df_planes.engine_split == 'prop', 'PROP')\n",
    "                    .when(df_planes.engine_split == 'shaft', 'SHAFT')\n",
    "                    .when(df_planes.engine.endswith('Cycle'), 'CYCLE')\n",
    "                    .otherwise(df_planes.engine)\n",
    "))\n",
    "\n",
    "df_planes = df_planes.drop('engine_split')"
   ]
  },
  {
   "cell_type": "code",
   "execution_count": null,
   "metadata": {},
   "outputs": [],
   "source": [
    "### verificando a nova coluna engine_type de acordo com o tratamento realizado\n",
    "\n",
    "\n",
    "df_planes.select('engine', 'engine_type').distinct().show()"
   ]
  },
  {
   "cell_type": "markdown",
   "metadata": {},
   "source": [
    "### Gerando arquivo .parquet"
   ]
  },
  {
   "cell_type": "code",
   "execution_count": null,
   "metadata": {},
   "outputs": [],
   "source": [
    "(df_planes.repartition(1) \n",
    "            .write.format(\"parquet\")\n",
    "            .mode('overwrite')\n",
    "            .option(\"header\", \"true\")\n",
    ".save(\"/data/workspace_files/planes_tf.parquet\")\n",
    ")"
   ]
  },
  {
   "cell_type": "code",
   "execution_count": null,
   "metadata": {},
   "outputs": [],
   "source": []
  },
  {
   "cell_type": "markdown",
   "metadata": {},
   "source": [
    "## Dataset flights.csv :"
   ]
  },
  {
   "cell_type": "code",
   "execution_count": null,
   "metadata": {},
   "outputs": [],
   "source": [
    "# Leitura/Carga do dataset\n",
    "\n",
    "\n",
    "df_flights = (spark.getOrCreate().read\n",
    "                  .format(\"csv\")\n",
    "                  .option(\"header\", \"true\")\n",
    "                  .schema(schema_flights)\n",
    "                  .load(\"C:/Users/danisant/Codes/flights.csv\"))"
   ]
  },
  {
   "cell_type": "code",
   "execution_count": null,
   "metadata": {},
   "outputs": [],
   "source": [
    "#Gerar a tabela de acordo com sua estrutura de colunas\n",
    "\n",
    "df_flights = df_flights[['year', 'month', 'day','hour', 'minute','dep_time','arr_time', 'dep_delay', 'arr_delay', 'carrier', 'tailnum', 'flight',\n",
    "        'origin','dest', 'air_time', 'distance']]"
   ]
  },
  {
   "cell_type": "code",
   "execution_count": null,
   "metadata": {},
   "outputs": [],
   "source": [
    "#Visões Temporárias - não altera a estrutura original\n",
    "\n",
    "\n",
    "df_flights.createOrReplaceTempView('flights')"
   ]
  },
  {
   "cell_type": "markdown",
   "metadata": {},
   "source": [
    "#### Pergunta 1:"
   ]
  },
  {
   "cell_type": "code",
   "execution_count": null,
   "metadata": {},
   "outputs": [],
   "source": [
    "# Verificando se há e a quantidade de valores nulos nas colunas solicitadas:\n",
    "\n",
    "df_flights.groupBy().agg(F.count(F.when(((F.col(\"hour\").isNull()) | (F.col(\"minute\").isNull())),True))).show()\n"
   ]
  },
  {
   "cell_type": "code",
   "execution_count": null,
   "metadata": {},
   "outputs": [],
   "source": [
    "# Atendendo os requisitos\n",
    "\n",
    "\n",
    "\n",
    "df_flights = df_flights.withColumn('hour', when(F.col('hour').isNull(), \"0\")\n",
    "                                    .otherwise(F.col('hour'))\n",
    "                          ) \\\n",
    "               .withColumn('minute', F.when(F.col('minute').isNull(), \"0\")\n",
    "                                      .otherwise(F.col('minute'))\n",
    "                          )"
   ]
  },
  {
   "cell_type": "code",
   "execution_count": null,
   "metadata": {},
   "outputs": [],
   "source": [
    "# Confirmando se há e a quantidade de valores nulos nas colunas solicitadas:\n",
    "\n",
    "df_flights.groupBy().agg(F.count(F.when(((F.col(\"hour\").isNull()) | (F.col(\"minute\").isNull())),True))).show()"
   ]
  },
  {
   "cell_type": "markdown",
   "metadata": {},
   "source": [
    "#### Pergunta 2:"
   ]
  },
  {
   "cell_type": "code",
   "execution_count": null,
   "metadata": {},
   "outputs": [],
   "source": [
    "# Verificando se há e a quantidade de valores iguais a 24 nas coluna solicitada:\n",
    "\n",
    "\n",
    "df_flights.select('hour').where((df_flights.hour==24)).count()"
   ]
  },
  {
   "cell_type": "code",
   "execution_count": null,
   "metadata": {},
   "outputs": [],
   "source": [
    "# Atendendo os requisitos\n",
    "\n",
    "\n",
    "df_flights = df_flights.withColumn('hour', F.when(F.col('hour') == 24 , 0)\n",
    "                                    .otherwise(F.col('hour'))  \n",
    "                          )"
   ]
  },
  {
   "cell_type": "code",
   "execution_count": null,
   "metadata": {},
   "outputs": [],
   "source": [
    "# Confirmando se há e a quantidade de valores iguais a 24 nas coluna solicitada:\n",
    "\n",
    "\n",
    "df_flights.select('hour').where((df_flights.hour==24)).count()\n"
   ]
  },
  {
   "cell_type": "markdown",
   "metadata": {},
   "source": [
    "#### Pergunta 3:"
   ]
  },
  {
   "cell_type": "code",
   "execution_count": null,
   "metadata": {},
   "outputs": [],
   "source": [
    "# Atendendo aos requisitos\n",
    "\n",
    "\n",
    "df_flights = df_flights.withColumn('dep_datetime', \n",
    "F.concat_ws(':',\n",
    "            F.concat_ws(' ',\n",
    "                        F.concat_ws('-',F.col('year'), F.col('month'), F.col('day')),\n",
    "            F.col('hour')), \n",
    "F.col('minute')).cast('timestamp'))"
   ]
  },
  {
   "cell_type": "code",
   "execution_count": null,
   "metadata": {},
   "outputs": [],
   "source": [
    "# Confirmar se a coluna foi criada e se está formatada de acordo com a necessidade solicitada\n",
    "\n",
    "df_flights.select('dep_datetime').show() # somente a nova coluna\n",
    "df_flights.select('*').show()  # todo o dataset já com a nova coluna"
   ]
  },
  {
   "cell_type": "markdown",
   "metadata": {},
   "source": [
    "#### Pergunta 4:"
   ]
  },
  {
   "cell_type": "code",
   "execution_count": null,
   "metadata": {},
   "outputs": [],
   "source": [
    "## Verificando se há e quantos valores nulos existem nas colunas solicitadas\n",
    "\n",
    "df_flights.select('dep_time').where((df_flights.dep_time.isNull())).count()"
   ]
  },
  {
   "cell_type": "code",
   "execution_count": null,
   "metadata": {},
   "outputs": [],
   "source": [
    "# Atendendo os requisitos\n",
    "\n",
    "df_flights = (df_flights.withColumn('dep_time',\n",
    "F.when(F.col('dep_time') == 'NA',\n",
    "F.concat(F.col('hour'),\n",
    "F.lpad(F.col('minute'), 2, '0')))\n",
    ".otherwise(F.col('dep_time').cast('timestamp'))\n",
    "))"
   ]
  },
  {
   "cell_type": "markdown",
   "metadata": {},
   "source": [
    "#### Pergunta 5:"
   ]
  },
  {
   "cell_type": "code",
   "execution_count": null,
   "metadata": {},
   "outputs": [],
   "source": [
    "## Verificando se há e quantos valores nulos existem nas colunas solicitadas\n",
    "\n",
    "\n",
    "df_flights.select('dep_delay').where((df_flights.dep_delay.isNull())).count()"
   ]
  },
  {
   "cell_type": "code",
   "execution_count": null,
   "metadata": {},
   "outputs": [],
   "source": [
    "# Atendendo aos requisitos\n",
    "\n",
    "\n",
    "df_flights = df_flights.withColumn('dep_delay', F.when(F.col('dep_delay').isNull() , 0)\n",
    "                                    .otherwise(F.col('dep_delay'))  \n",
    "                          )\n",
    "\n"
   ]
  },
  {
   "cell_type": "code",
   "execution_count": null,
   "metadata": {},
   "outputs": [],
   "source": [
    "## Confirmando se há e quantos valores nulos existem nas colunas solicitadas\n",
    "\n",
    "\n",
    "df_flights.select('dep_delay').where((df_flights.dep_delay.isNull())).count()"
   ]
  },
  {
   "cell_type": "markdown",
   "metadata": {},
   "source": [
    "#### Pergunta 6:"
   ]
  },
  {
   "cell_type": "code",
   "execution_count": null,
   "metadata": {},
   "outputs": [],
   "source": [
    "## Verificando se há e quantos valores nulos existem nas colunas solicitadas\n",
    "\n",
    "\n",
    "df_flights.select('arr_delay').where((df_flights.arr_delay.isNull())).count()"
   ]
  },
  {
   "cell_type": "code",
   "execution_count": null,
   "metadata": {},
   "outputs": [],
   "source": [
    "# Atendendo os requisistos\n",
    "\n",
    "df_flights = df_flights.withColumn('arr_delay', F.when(F.col('arr_delay').isNull() , 0)\n",
    "                                    .otherwise(F.col('arr_delay'))  \n",
    "                          )\n",
    "\n"
   ]
  },
  {
   "cell_type": "code",
   "execution_count": null,
   "metadata": {},
   "outputs": [],
   "source": [
    "## Confirmando se há e quantos valores nulos existem nas colunas solicitadas\n",
    "\n",
    "\n",
    "df_flights.select('arr_delay').where((df_flights.arr_delay.isNull())).count()"
   ]
  },
  {
   "cell_type": "markdown",
   "metadata": {},
   "source": [
    "#### Pergunta 7:"
   ]
  },
  {
   "cell_type": "code",
   "execution_count": null,
   "metadata": {},
   "outputs": [],
   "source": [
    "### Verificando se as colunas existem no dataset\n",
    "\n",
    "listColumns = df_flights.columns\n",
    "\"year\",\"month\",\"day\",\"hour\",\"minute\"  in listColumns"
   ]
  },
  {
   "cell_type": "code",
   "execution_count": null,
   "metadata": {},
   "outputs": [],
   "source": [
    "### Atendendo aos requisitos\n",
    "\n",
    "columns_to_drop = ['year','month','day','hour','minute']\n",
    "\n",
    "df_flights = df_flights.drop(*columns_to_drop)"
   ]
  },
  {
   "cell_type": "code",
   "execution_count": null,
   "metadata": {},
   "outputs": [],
   "source": [
    "### Verificando se as colunas foram excluidas \n",
    "\n",
    "listColumns = df_flights.columns\n",
    "\"year\",\"month\",\"day\",\"hour\",\"minute\"  in listColumns\n"
   ]
  },
  {
   "cell_type": "code",
   "execution_count": null,
   "metadata": {},
   "outputs": [],
   "source": [
    "### Exibindo o dataset sem as colunas do requisito anterior\n",
    "\n",
    "df_flights.show()"
   ]
  },
  {
   "cell_type": "markdown",
   "metadata": {},
   "source": [
    "#### Pergunta 8:"
   ]
  },
  {
   "cell_type": "code",
   "execution_count": null,
   "metadata": {},
   "outputs": [],
   "source": [
    "### Atendendo os requisitos\n",
    "\n",
    "\n",
    "df_flights = df_flights.withColumn('air_time_projected', ((F.col('distance') * 0.1) + 20).cast(IntegerType()))"
   ]
  },
  {
   "cell_type": "code",
   "execution_count": null,
   "metadata": {},
   "outputs": [],
   "source": [
    "### Verificando se a coluna foi criada com o tipo solicitado\n",
    "\n",
    "df_flights.select(col(\"air_time_projected\")).schema"
   ]
  },
  {
   "cell_type": "code",
   "execution_count": null,
   "metadata": {},
   "outputs": [],
   "source": [
    "### Exibindo o dataset com a nova coluna criada\n",
    "\n",
    "df_flights.show(5)"
   ]
  },
  {
   "cell_type": "markdown",
   "metadata": {},
   "source": [
    "#### Pergunta 9:"
   ]
  },
  {
   "cell_type": "code",
   "execution_count": null,
   "metadata": {},
   "outputs": [],
   "source": [
    "### Atendendo os requisitos\n",
    "\n",
    "## criando coluna auxiliar\n",
    "dfaux = df_flights.groupBy('origin', 'dest').avg('air_time').withColumnRenamed('avg(air_time)','air_time_expected').withColumnRenamed('origin', 'origin1').withColumnRenamed('dest', 'dest1')\n",
    "\n",
    "dfaux.show(3)"
   ]
  },
  {
   "cell_type": "code",
   "execution_count": null,
   "metadata": {},
   "outputs": [],
   "source": [
    "### criando a condição necessária para atender o requisito solicitado\n",
    "### unindo tabela auxiliar à condição e em seguida excluindo-a\n",
    "### gerando nova coluna atendendo o requisito necessário e também com o tipo necessário\n",
    "\n",
    "condition = [df_flights.origin == dfaux.origin1, df_flights.dest == dfaux.dest1]\n",
    "\n",
    "df_flights = df_flights.join(dfaux, condition, 'left')\n",
    "\n",
    "df_flights = df_flights.drop('origin1', 'dest1')\n",
    "\n",
    "df_flights = df_flights.withColumn('air_time_expected', F.col('air_time_expected').cast(IntegerType()))"
   ]
  },
  {
   "cell_type": "code",
   "execution_count": null,
   "metadata": {},
   "outputs": [],
   "source": [
    "### Exibindo a coluna com o tratamento realizado\n",
    "\n",
    "\n",
    "df_flights.select('origin','dest','air_time_expected').show(20)\n"
   ]
  },
  {
   "cell_type": "markdown",
   "metadata": {},
   "source": [
    "#### Pergunta 10:"
   ]
  },
  {
   "cell_type": "code",
   "execution_count": null,
   "metadata": {},
   "outputs": [],
   "source": [
    "### Atendendo aos requisitos\n",
    "\n",
    "df_flights = (df_flights.withColumn('air_time',\n",
    "F.when(F.col('air_time').isNull(),\n",
    "F.greatest(F.col('air_time_projected'), F.col('air_time_expected')))\n",
    ".otherwise(F.col('air_time'))\n",
    "\n",
    "))\n",
    "\n",
    "df_flights.show(5)"
   ]
  },
  {
   "cell_type": "markdown",
   "metadata": {},
   "source": [
    "#### Pergunta 11:"
   ]
  },
  {
   "cell_type": "code",
   "execution_count": null,
   "metadata": {},
   "outputs": [],
   "source": [
    "### Verificando se há e quantos valores existem na coluna arr_time\n",
    "\n",
    "df_flights.select('arr_time').where((df_flights.arr_time.isNull())).count()"
   ]
  },
  {
   "cell_type": "code",
   "execution_count": null,
   "metadata": {},
   "outputs": [],
   "source": [
    "## Atendendo os requisitos\n",
    "\n",
    "df_flights = df_flights.withColumn('arr_time', F.when(F.col('arr_time') == 'NA', F.col('dep_time')+F.col('air_time'))\n",
    "                                                .otherwise(F.col('arr_time'))  \n",
    "                                  )"
   ]
  },
  {
   "cell_type": "code",
   "execution_count": null,
   "metadata": {},
   "outputs": [],
   "source": [
    "### Confirmando o tratamento realizado na coluna arr_time\n",
    "\n",
    "\n",
    "df_flights.where(df_flights.arr_time> 60).show(5)"
   ]
  },
  {
   "cell_type": "code",
   "execution_count": null,
   "metadata": {},
   "outputs": [],
   "source": [
    "### Confirmando se há valores nulos na coluna arr_time\n",
    "\n",
    "df_flights.select('arr_time').where((df_flights.arr_time == 'NA')).show()"
   ]
  },
  {
   "cell_type": "markdown",
   "metadata": {},
   "source": [
    "#### Pergunta 12:"
   ]
  },
  {
   "cell_type": "code",
   "execution_count": null,
   "metadata": {},
   "outputs": [],
   "source": [
    "### Atendendo os requisitos\n",
    "\n",
    "df_flights = df_flights.withColumn('haul_duration', F.when(F.col('air_time').between(20, 180), 'SHORT-HAUL')\n",
    "                                                     .when(F.col('air_time').between(180, 300), 'MEDIUM-HAUL')\n",
    "                                                     .when(F.col('air_time')>300 , 'LONG-HAUL') \n",
    "                                  )\n",
    "\n"
   ]
  },
  {
   "cell_type": "code",
   "execution_count": null,
   "metadata": {},
   "outputs": [],
   "source": [
    "### Verificando o tratamento na nova coluna\n",
    "\n",
    "df_flights.select(\"haul_duration\", \"air_time\").show(10)"
   ]
  },
  {
   "cell_type": "markdown",
   "metadata": {},
   "source": [
    "#### Pergunta 13:"
   ]
  },
  {
   "cell_type": "code",
   "execution_count": null,
   "metadata": {},
   "outputs": [],
   "source": [
    "### Atendendo os requisitos\n",
    "\n",
    "df_flights = df_flights.withColumn('dep_season',\n",
    "                                    F.when(F.col('dep_datetime').between(F.concat(F.year('dep_datetime'),F.lit('-03-20 15:33:00')),F.concat(F.year('dep_datetime'),F.lit('-06-21 10:14:00'))), 'SPRING')\n",
    "                                    .when(F.col('dep_datetime').between(F.concat(F.year('dep_datetime'),F.lit('-06-21 10:14:00')),F.concat(F.year('dep_datetime'),F.lit('-09-23 02:04:00'))), 'SUMMER')\n",
    "                                    .when(F.col('dep_datetime').between(F.concat(F.year('dep_datetime'),F.lit('-09-23 02:04:00')),F.concat(F.year('dep_datetime'),F.lit('-12-21 21:48:00'))), 'FALL')\n",
    "                                    .otherwise('WINTER')\n",
    "                                  )"
   ]
  },
  {
   "cell_type": "code",
   "execution_count": null,
   "metadata": {},
   "outputs": [],
   "source": [
    "### Consultando a coluna dep_datetime de acordo com o tratamento anterior\n",
    "\n",
    "df_flights.select('dep_datetime','dep_season').filter(df_flights.dep_season != 'SPRING').show()"
   ]
  },
  {
   "cell_type": "markdown",
   "metadata": {},
   "source": [
    "#### Pergunta 14:"
   ]
  },
  {
   "cell_type": "code",
   "execution_count": null,
   "metadata": {},
   "outputs": [],
   "source": [
    "### Atendendo os requisitos\n",
    "\n",
    "df_flights = df_flights.withColumn('dep_delay_category', F.when(F.col('dep_delay')<0, 'ANTECIPATED')\n",
    "                                                          .when(F.col('dep_delay')==0, 'INTIME')\n",
    "                                                          .when(F.col('dep_delay').between(0,60), 'MINOR')\n",
    "                                                          .when(F.col('dep_delay')>60, 'MAJOR')\n",
    "                                  )"
   ]
  },
  {
   "cell_type": "code",
   "execution_count": null,
   "metadata": {},
   "outputs": [],
   "source": [
    "### Exibindo a nova coluna tratada\n",
    "\n",
    "df_flights.select('dep_delay', 'dep_delay_category').show()"
   ]
  },
  {
   "cell_type": "markdown",
   "metadata": {},
   "source": [
    "### Gerando arquivo .parquet"
   ]
  },
  {
   "cell_type": "code",
   "execution_count": null,
   "metadata": {},
   "outputs": [],
   "source": [
    "(df_flights.repartition(1) \n",
    "            .write.format(\"parquet\")\n",
    "            .mode('overwrite')\n",
    "            .option(\"header\", \"true\")\n",
    ".save(\"/data/workspace_files/flights_tf.parquet\")\n",
    ")"
   ]
  }
 ],
 "metadata": {
  "datalore": {
   "base_environment": "default",
   "computation_mode": "JUPYTER",
   "package_manager": "pip",
   "packages": [],
   "version": 1
  },
  "kernelspec": {
   "display_name": "Python 3 (ipykernel)",
   "language": "python",
   "name": "python3"
  },
  "language_info": {
   "codemirror_mode": {
    "name": "ipython",
    "version": 3
   },
   "file_extension": ".py",
   "mimetype": "text/x-python",
   "name": "python",
   "nbconvert_exporter": "python",
   "pygments_lexer": "ipython3",
   "version": "3.9.7"
  }
 },
 "nbformat": 4,
 "nbformat_minor": 4
}
