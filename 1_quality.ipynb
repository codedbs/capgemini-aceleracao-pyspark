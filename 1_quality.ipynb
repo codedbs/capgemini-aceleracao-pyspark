{
 "cells": [
  {
   "cell_type": "code",
   "execution_count": 1,
   "metadata": {
    "datalore": {
     "hide_input_from_viewers": false,
     "hide_output_from_viewers": false,
     "type": "CODE"
    }
   },
   "outputs": [
    {
     "name": "stdout",
     "output_type": "stream",
     "text": [
      "Requirement already satisfied: pyspark in c:\\users\\danisant\\anaconda3\\lib\\site-packages (3.2.1)\n",
      "Requirement already satisfied: py4j==0.10.9.3 in c:\\users\\danisant\\anaconda3\\lib\\site-packages (from pyspark) (0.10.9.3)\n",
      "Requirement already satisfied: findspark in c:\\users\\danisant\\anaconda3\\lib\\site-packages (2.0.1)\n"
     ]
    }
   ],
   "source": [
    "# Instalação dos pacotes necessários\n",
    "!pip install pyspark\n",
    "!pip install findspark"
   ]
  },
  {
   "cell_type": "code",
   "execution_count": 2,
   "metadata": {
    "datalore": {
     "hide_input_from_viewers": false,
     "hide_output_from_viewers": false,
     "type": "CODE"
    }
   },
   "outputs": [],
   "source": [
    "#importando o findSpark\n",
    "\n",
    "\n",
    "import findspark\n",
    "findspark.init()"
   ]
  },
  {
   "cell_type": "code",
   "execution_count": 3,
   "metadata": {
    "datalore": {
     "hide_input_from_viewers": false,
     "hide_output_from_viewers": false,
     "type": "CODE"
    }
   },
   "outputs": [],
   "source": [
    "## importando bibliotecas necessárias\n",
    "\n",
    "from pyspark import SparkContext, SparkConf\n",
    "from pyspark.sql import SparkSession\n",
    "from pyspark.sql import functions as F\n",
    "from pyspark.sql.functions import col,when,count,lit,greatest,struct,expr,length,trim, ltrim, rtrim,udf\n",
    "from pyspark.sql.types import StructType, StructField, StringType, IntegerType, FloatType\n",
    "import numpy as np"
   ]
  },
  {
   "cell_type": "code",
   "execution_count": 4,
   "metadata": {
    "datalore": {
     "hide_input_from_viewers": false,
     "hide_output_from_viewers": false,
     "type": "CODE"
    }
   },
   "outputs": [],
   "source": [
    "# Criação do contexto do spark\n",
    "sc = SparkContext()\n",
    "\n",
    "# Instância do criador de sessão do spark\n",
    "spark = (SparkSession.builder\n",
    "                     .master(\"local[7]\")\n",
    "                     .appName(\"Aceleração PySpark - Capgemini\"))"
   ]
  },
  {
   "cell_type": "markdown",
   "metadata": {
    "datalore": {
     "hide_input_from_viewers": false,
     "hide_output_from_viewers": false,
     "type": "MD"
    }
   },
   "source": [
    "##  Dataset airports.csv :"
   ]
  },
  {
   "cell_type": "code",
   "execution_count": null,
   "metadata": {},
   "outputs": [],
   "source": [
    "# Leitura/Carga do dataset\n",
    "\n",
    "df_airports = (spark.getOrCreate().read\n",
    "                  .format(\"csv\")\n",
    "                  .option(\"header\", \"true\")\n",
    "                  .schema(schema_airports)\n",
    "                  .load(\"C:/Users/danisant/Codes/airports.csv\"))"
   ]
  },
  {
   "cell_type": "code",
   "execution_count": null,
   "metadata": {},
   "outputs": [],
   "source": [
    "#Visões Temporárias - não altera a estrutura original\n",
    "\n",
    "df_airports.createOrReplaceTempView('airports')"
   ]
  },
  {
   "cell_type": "markdown",
   "metadata": {
    "datalore": {
     "hide_input_from_viewers": false,
     "hide_output_from_viewers": false,
     "type": "MD"
    }
   },
   "source": [
    "#### Pergunta 1"
   ]
  },
  {
   "cell_type": "code",
   "execution_count": 9,
   "metadata": {
    "datalore": {
     "hide_input_from_viewers": false,
     "hide_output_from_viewers": false,
     "type": "CODE"
    }
   },
   "outputs": [
    {
     "name": "stdout",
     "output_type": "stream",
     "text": [
      "+---+----+----+----+----+----+----+------+\n",
      "|faa|name| lat| lon| alt|  tz| dst|qa_faa|\n",
      "+---+----+----+----+----+----+----+------+\n",
      "|  0| 04G|null|null|null|null|null|     F|\n",
      "|  1| 06A|null|null|null|null|null|     F|\n",
      "|  2| 06C|null|null|null|null|null|     F|\n",
      "|  3| 06N|null|null|null|null|null|     F|\n",
      "|  4| 09J|null|null|null|null|null|     F|\n",
      "|  5| 0A9|null|null|null|null|null|     F|\n",
      "|  6| 0G6|null|null|null|null|null|     F|\n",
      "|  7| 0G7|null|null|null|null|null|     F|\n",
      "|  8| 0P2|null|null|null|null|null|     F|\n",
      "|  9| 0S9|null|null|null|null|null|     F|\n",
      "| 10| 0W3|null|null|null|null|null|     F|\n",
      "| 11| 10C|null|null|null|null|null|     F|\n",
      "| 12| 17G|null|null|null|null|null|     F|\n",
      "| 13| 19A|null|null|null|null|null|     F|\n",
      "| 14| 1A3|null|null|null|null|null|     F|\n",
      "| 15| 1B9|null|null|null|null|null|     F|\n",
      "| 16| 1C9|null|null|null|null|null|     F|\n",
      "| 17| 1CS|null|null|null|null|null|     F|\n",
      "| 18| 1G3|null|null|null|null|null|     F|\n",
      "| 19| 1OH|null|null|null|null|null|     F|\n",
      "+---+----+----+----+----+----+----+------+\n",
      "only showing top 20 rows\n",
      "\n"
     ]
    }
   ],
   "source": [
    "# Atendendo os requisitos\n",
    "\n",
    "df_airports.withColumn('qa_faa', \n",
    "                        (when((df_airports.faa == '') | \n",
    "                              (df_airports.faa.isNull() == True) |\n",
    "                              (df_airports.faa.rlike('\\t')) |\n",
    "                              (df_airports.faa.rlike(' +'))\n",
    "                              , lit('M')) \n",
    "                        .when((length(df_airports.faa) < 3) | \n",
    "                              (length(df_airports.faa) > 5) | \n",
    "                              (df_airports.faa.rlike(\"^[a-zA-Z]*$\") == True) |\n",
    "                              (df_airports.faa.rlike(\"^[0-9]$\") == True)\n",
    "                              , lit('F')) \n",
    "                        )\n",
    "                   ).show()"
   ]
  },
  {
   "cell_type": "markdown",
   "metadata": {
    "datalore": {
     "hide_input_from_viewers": false,
     "hide_output_from_viewers": false,
     "type": "MD"
    }
   },
   "source": [
    "#### Pergunta 2"
   ]
  },
  {
   "cell_type": "code",
   "execution_count": 10,
   "metadata": {
    "datalore": {
     "hide_input_from_viewers": false,
     "hide_output_from_viewers": false,
     "type": "CODE"
    }
   },
   "outputs": [
    {
     "name": "stdout",
     "output_type": "stream",
     "text": [
      "+---+----+----+----+----+----+----+-------+\n",
      "|faa|name| lat| lon| alt|  tz| dst|qa_name|\n",
      "+---+----+----+----+----+----+----+-------+\n",
      "|  0| 04G|null|null|null|null|null|   null|\n",
      "|  1| 06A|null|null|null|null|null|   null|\n",
      "|  2| 06C|null|null|null|null|null|   null|\n",
      "|  3| 06N|null|null|null|null|null|   null|\n",
      "|  4| 09J|null|null|null|null|null|   null|\n",
      "|  5| 0A9|null|null|null|null|null|   null|\n",
      "|  6| 0G6|null|null|null|null|null|   null|\n",
      "|  7| 0G7|null|null|null|null|null|   null|\n",
      "|  8| 0P2|null|null|null|null|null|   null|\n",
      "|  9| 0S9|null|null|null|null|null|   null|\n",
      "| 10| 0W3|null|null|null|null|null|   null|\n",
      "| 11| 10C|null|null|null|null|null|   null|\n",
      "| 12| 17G|null|null|null|null|null|   null|\n",
      "| 13| 19A|null|null|null|null|null|   null|\n",
      "| 14| 1A3|null|null|null|null|null|   null|\n",
      "| 15| 1B9|null|null|null|null|null|   null|\n",
      "| 16| 1C9|null|null|null|null|null|   null|\n",
      "| 17| 1CS|null|null|null|null|null|   null|\n",
      "| 18| 1G3|null|null|null|null|null|   null|\n",
      "| 19| 1OH|null|null|null|null|null|   null|\n",
      "+---+----+----+----+----+----+----+-------+\n",
      "only showing top 20 rows\n",
      "\n"
     ]
    }
   ],
   "source": [
    "# Atendendo os requisitos\n",
    "\n",
    "df_airports.withColumn('qa_name', \n",
    "                  (when(df_airports.name == None  |\n",
    "                       (df_airports.name == ''), lit('M')\n",
    "                       )\n",
    "                  )\n",
    "             ).show()"
   ]
  },
  {
   "cell_type": "markdown",
   "metadata": {
    "datalore": {
     "hide_input_from_viewers": false,
     "hide_output_from_viewers": false,
     "type": "MD"
    }
   },
   "source": [
    "#### Pergunta 3"
   ]
  },
  {
   "cell_type": "code",
   "execution_count": 11,
   "metadata": {
    "datalore": {
     "hide_input_from_viewers": false,
     "hide_output_from_viewers": false,
     "type": "CODE"
    }
   },
   "outputs": [
    {
     "name": "stdout",
     "output_type": "stream",
     "text": [
      "+---+----+----+----+----+----+----+------+\n",
      "|faa|name| lat| lon| alt|  tz| dst|qa_lat|\n",
      "+---+----+----+----+----+----+----+------+\n",
      "|  0| 04G|null|null|null|null|null|  null|\n",
      "|  1| 06A|null|null|null|null|null|  null|\n",
      "|  2| 06C|null|null|null|null|null|  null|\n",
      "|  3| 06N|null|null|null|null|null|  null|\n",
      "|  4| 09J|null|null|null|null|null|  null|\n",
      "|  5| 0A9|null|null|null|null|null|  null|\n",
      "|  6| 0G6|null|null|null|null|null|  null|\n",
      "|  7| 0G7|null|null|null|null|null|  null|\n",
      "|  8| 0P2|null|null|null|null|null|  null|\n",
      "|  9| 0S9|null|null|null|null|null|  null|\n",
      "| 10| 0W3|null|null|null|null|null|  null|\n",
      "| 11| 10C|null|null|null|null|null|  null|\n",
      "| 12| 17G|null|null|null|null|null|  null|\n",
      "| 13| 19A|null|null|null|null|null|  null|\n",
      "| 14| 1A3|null|null|null|null|null|  null|\n",
      "| 15| 1B9|null|null|null|null|null|  null|\n",
      "| 16| 1C9|null|null|null|null|null|  null|\n",
      "| 17| 1CS|null|null|null|null|null|  null|\n",
      "| 18| 1G3|null|null|null|null|null|  null|\n",
      "| 19| 1OH|null|null|null|null|null|  null|\n",
      "+---+----+----+----+----+----+----+------+\n",
      "only showing top 20 rows\n",
      "\n"
     ]
    }
   ],
   "source": [
    "# Atendendo os requisitos\n",
    "\n",
    "\n",
    "df_airports.withColumn('qa_lat', \n",
    "                 (when(df_airports.lat == None |\n",
    "                       (df_airports.lat == ''), lit ('M')\n",
    "                      )\n",
    "                 .when((df_airports.lat < -180) | \n",
    "                       (df_airports.lat > 180), lit ('I'))\n",
    "                 .when(df_airports.lat.rlike(\"^[a-zA-Z]*$\"), lit('A'))\n",
    "                 )\n",
    "             ).show()"
   ]
  },
  {
   "cell_type": "markdown",
   "metadata": {
    "datalore": {
     "hide_input_from_viewers": false,
     "hide_output_from_viewers": false,
     "type": "MD"
    }
   },
   "source": [
    "#### Pergunta 4"
   ]
  },
  {
   "cell_type": "code",
   "execution_count": 12,
   "metadata": {
    "datalore": {
     "hide_input_from_viewers": false,
     "hide_output_from_viewers": false,
     "type": "CODE"
    }
   },
   "outputs": [
    {
     "name": "stdout",
     "output_type": "stream",
     "text": [
      "+---+----+----+----+----+----+----+------+\n",
      "|faa|name| lat| lon| alt|  tz| dst|qa_lon|\n",
      "+---+----+----+----+----+----+----+------+\n",
      "|  0| 04G|null|null|null|null|null|  null|\n",
      "|  1| 06A|null|null|null|null|null|  null|\n",
      "|  2| 06C|null|null|null|null|null|  null|\n",
      "|  3| 06N|null|null|null|null|null|  null|\n",
      "|  4| 09J|null|null|null|null|null|  null|\n",
      "|  5| 0A9|null|null|null|null|null|  null|\n",
      "|  6| 0G6|null|null|null|null|null|  null|\n",
      "|  7| 0G7|null|null|null|null|null|  null|\n",
      "|  8| 0P2|null|null|null|null|null|  null|\n",
      "|  9| 0S9|null|null|null|null|null|  null|\n",
      "| 10| 0W3|null|null|null|null|null|  null|\n",
      "| 11| 10C|null|null|null|null|null|  null|\n",
      "| 12| 17G|null|null|null|null|null|  null|\n",
      "| 13| 19A|null|null|null|null|null|  null|\n",
      "| 14| 1A3|null|null|null|null|null|  null|\n",
      "| 15| 1B9|null|null|null|null|null|  null|\n",
      "| 16| 1C9|null|null|null|null|null|  null|\n",
      "| 17| 1CS|null|null|null|null|null|  null|\n",
      "| 18| 1G3|null|null|null|null|null|  null|\n",
      "| 19| 1OH|null|null|null|null|null|  null|\n",
      "+---+----+----+----+----+----+----+------+\n",
      "only showing top 20 rows\n",
      "\n"
     ]
    }
   ],
   "source": [
    "# Atendendo os requisitos\n",
    "\n",
    "df_airports.withColumn('qa_lon', \n",
    "                 (when((df_airports.lon == None) |\n",
    "                      (df_airports.lon == ''),lit ('M')) \n",
    "                 .when((df_airports.lon < -180) | \n",
    "                       (df_airports.lon > 180), lit ('I')) \n",
    "                 .when(df_airports.lon.rlike(\"^[a-zA-Z]*$\"), lit('A'))\n",
    "                 )\n",
    "             ).show()"
   ]
  },
  {
   "cell_type": "markdown",
   "metadata": {
    "datalore": {
     "hide_input_from_viewers": false,
     "hide_output_from_viewers": false,
     "type": "MD"
    }
   },
   "source": [
    "#### Pergunta 5"
   ]
  },
  {
   "cell_type": "code",
   "execution_count": 13,
   "metadata": {
    "datalore": {
     "hide_input_from_viewers": false,
     "hide_output_from_viewers": false,
     "type": "CODE"
    }
   },
   "outputs": [
    {
     "name": "stdout",
     "output_type": "stream",
     "text": [
      "+---+----+----+----+----+----+----+------+\n",
      "|faa|name| lat| lon| alt|  tz| dst|qa_alt|\n",
      "+---+----+----+----+----+----+----+------+\n",
      "|  0| 04G|null|null|null|null|null|  null|\n",
      "|  1| 06A|null|null|null|null|null|  null|\n",
      "|  2| 06C|null|null|null|null|null|  null|\n",
      "|  3| 06N|null|null|null|null|null|  null|\n",
      "|  4| 09J|null|null|null|null|null|  null|\n",
      "|  5| 0A9|null|null|null|null|null|  null|\n",
      "|  6| 0G6|null|null|null|null|null|  null|\n",
      "|  7| 0G7|null|null|null|null|null|  null|\n",
      "|  8| 0P2|null|null|null|null|null|  null|\n",
      "|  9| 0S9|null|null|null|null|null|  null|\n",
      "| 10| 0W3|null|null|null|null|null|  null|\n",
      "| 11| 10C|null|null|null|null|null|  null|\n",
      "| 12| 17G|null|null|null|null|null|  null|\n",
      "| 13| 19A|null|null|null|null|null|  null|\n",
      "| 14| 1A3|null|null|null|null|null|  null|\n",
      "| 15| 1B9|null|null|null|null|null|  null|\n",
      "| 16| 1C9|null|null|null|null|null|  null|\n",
      "| 17| 1CS|null|null|null|null|null|  null|\n",
      "| 18| 1G3|null|null|null|null|null|  null|\n",
      "| 19| 1OH|null|null|null|null|null|  null|\n",
      "+---+----+----+----+----+----+----+------+\n",
      "only showing top 20 rows\n",
      "\n"
     ]
    }
   ],
   "source": [
    "# Atendendo os requisitos\n",
    "\n",
    "df_airports.withColumn('qa_alt', \n",
    "                 (when(((df_airports.alt == None) |\n",
    "                        (df_airports.alt == '')\n",
    "                       ), lit ('M')) \n",
    "                 .when((df_airports.alt < 0)  \n",
    "                       , lit ('I')) \n",
    "                 .when(df_airports.alt.rlike(\"^[a-zA-Z]*$\"), lit('A'))\n",
    "                 )\n",
    "             ).show()"
   ]
  },
  {
   "cell_type": "markdown",
   "metadata": {
    "datalore": {
     "hide_input_from_viewers": false,
     "hide_output_from_viewers": false,
     "type": "MD"
    }
   },
   "source": [
    "#### Pergunta 6"
   ]
  },
  {
   "cell_type": "code",
   "execution_count": 14,
   "metadata": {
    "datalore": {
     "hide_input_from_viewers": false,
     "hide_output_from_viewers": false,
     "type": "CODE"
    }
   },
   "outputs": [
    {
     "name": "stdout",
     "output_type": "stream",
     "text": [
      "+---+----+----+----+----+----+----+-----+\n",
      "|faa|name| lat| lon| alt|  tz| dst|qa_tz|\n",
      "+---+----+----+----+----+----+----+-----+\n",
      "|  0| 04G|null|null|null|null|null|    M|\n",
      "|  1| 06A|null|null|null|null|null|    M|\n",
      "|  2| 06C|null|null|null|null|null|    M|\n",
      "|  3| 06N|null|null|null|null|null|    M|\n",
      "|  4| 09J|null|null|null|null|null|    M|\n",
      "|  5| 0A9|null|null|null|null|null|    M|\n",
      "|  6| 0G6|null|null|null|null|null|    M|\n",
      "|  7| 0G7|null|null|null|null|null|    M|\n",
      "|  8| 0P2|null|null|null|null|null|    M|\n",
      "|  9| 0S9|null|null|null|null|null|    M|\n",
      "| 10| 0W3|null|null|null|null|null|    M|\n",
      "| 11| 10C|null|null|null|null|null|    M|\n",
      "| 12| 17G|null|null|null|null|null|    M|\n",
      "| 13| 19A|null|null|null|null|null|    M|\n",
      "| 14| 1A3|null|null|null|null|null|    M|\n",
      "| 15| 1B9|null|null|null|null|null|    M|\n",
      "| 16| 1C9|null|null|null|null|null|    M|\n",
      "| 17| 1CS|null|null|null|null|null|    M|\n",
      "| 18| 1G3|null|null|null|null|null|    M|\n",
      "| 19| 1OH|null|null|null|null|null|    M|\n",
      "+---+----+----+----+----+----+----+-----+\n",
      "only showing top 20 rows\n",
      "\n"
     ]
    }
   ],
   "source": [
    "# Atendendo os requisitos\n",
    "\n",
    "df_airports.withColumn('qa_tz',\n",
    "                 (when((df_airports.tz.isNull()) | \n",
    "                        (df_airports.tz == ''),\n",
    "                        lit('M'))\n",
    "                 .when(\n",
    "                        (df_airports.tz < - 11) |\n",
    "                        (df_airports.tz > 14),\n",
    "                        lit('I'))\n",
    "                 .when(\n",
    "                        (df_airports.tz.rlike(\"^[a-zA-Z]*$\")),\n",
    "                        lit('A'))\n",
    "                 )\n",
    "             ).show()"
   ]
  },
  {
   "cell_type": "markdown",
   "metadata": {
    "datalore": {
     "hide_input_from_viewers": false,
     "hide_output_from_viewers": false,
     "type": "MD"
    }
   },
   "source": [
    "#### Pergunta 7"
   ]
  },
  {
   "cell_type": "code",
   "execution_count": 15,
   "metadata": {
    "datalore": {
     "hide_input_from_viewers": false,
     "hide_output_from_viewers": false,
     "type": "CODE"
    }
   },
   "outputs": [
    {
     "name": "stdout",
     "output_type": "stream",
     "text": [
      "+---+----+----+----+----+----+----+------+\n",
      "|faa|name| lat| lon| alt|  tz| dst|qa_dst|\n",
      "+---+----+----+----+----+----+----+------+\n",
      "|  0| 04G|null|null|null|null|null|     M|\n",
      "|  1| 06A|null|null|null|null|null|     M|\n",
      "|  2| 06C|null|null|null|null|null|     M|\n",
      "|  3| 06N|null|null|null|null|null|     M|\n",
      "|  4| 09J|null|null|null|null|null|     M|\n",
      "|  5| 0A9|null|null|null|null|null|     M|\n",
      "|  6| 0G6|null|null|null|null|null|     M|\n",
      "|  7| 0G7|null|null|null|null|null|     M|\n",
      "|  8| 0P2|null|null|null|null|null|     M|\n",
      "|  9| 0S9|null|null|null|null|null|     M|\n",
      "| 10| 0W3|null|null|null|null|null|     M|\n",
      "| 11| 10C|null|null|null|null|null|     M|\n",
      "| 12| 17G|null|null|null|null|null|     M|\n",
      "| 13| 19A|null|null|null|null|null|     M|\n",
      "| 14| 1A3|null|null|null|null|null|     M|\n",
      "| 15| 1B9|null|null|null|null|null|     M|\n",
      "| 16| 1C9|null|null|null|null|null|     M|\n",
      "| 17| 1CS|null|null|null|null|null|     M|\n",
      "| 18| 1G3|null|null|null|null|null|     M|\n",
      "| 19| 1OH|null|null|null|null|null|     M|\n",
      "+---+----+----+----+----+----+----+------+\n",
      "only showing top 20 rows\n",
      "\n"
     ]
    }
   ],
   "source": [
    "# Atendendo os requisitos\n",
    "\n",
    "expected_categories = ['E', 'A', 'S', 'O', 'Z', 'N', 'U']\n",
    "df_airports.withColumn('qa_dst',\n",
    "                 (when(\n",
    "                     ((df_airports.dst.isNull()) |\n",
    "                     (df_airports.dst == '')),\n",
    "                     lit('M')\n",
    "                     )\n",
    "                  .when(\n",
    "                      (~df_airports.dst.isin(expected_categories)),\n",
    "                      lit('C')\n",
    "                      )\n",
    "                  .when(\n",
    "                      (df_airports.dst.rlike(\"^[0-9]*$\")),\n",
    "                      lit('N')\n",
    "                      )\n",
    "                 )\n",
    "             ).show()\n"
   ]
  },
  {
   "cell_type": "markdown",
   "metadata": {
    "datalore": {
     "hide_input_from_viewers": false,
     "hide_output_from_viewers": false,
     "type": "MD"
    }
   },
   "source": [
    "### Gerando arquivo .parquet"
   ]
  },
  {
   "cell_type": "code",
   "execution_count": 16,
   "metadata": {
    "datalore": {
     "hide_input_from_viewers": false,
     "hide_output_from_viewers": false,
     "type": "CODE"
    }
   },
   "outputs": [],
   "source": [
    "(df_airports\n",
    ".repartition(1) # coalesce\n",
    ".write.format(\"parquet\")\n",
    ".mode('overwrite')\n",
    ".option(\"header\", \"true\")\n",
    ".save(\"C:/Users/danisant/parquets/airports_qa.parquet\"))"
   ]
  },
  {
   "cell_type": "code",
   "execution_count": null,
   "metadata": {},
   "outputs": [],
   "source": []
  },
  {
   "cell_type": "markdown",
   "metadata": {},
   "source": [
    "## Dataset planes.csv:"
   ]
  },
  {
   "cell_type": "code",
   "execution_count": null,
   "metadata": {},
   "outputs": [],
   "source": [
    "# Leitura/Carga do dataset\n",
    "\n",
    "\n",
    "df_planes = (spark.getOrCreate().read\n",
    "                  .format(\"csv\")\n",
    "                  .option(\"header\", \"true\")\n",
    "                  .schema(schema_planes)\n",
    "                  .load(\"C:/Users/danisant/Codes/planes.csv\"))"
   ]
  },
  {
   "cell_type": "code",
   "execution_count": null,
   "metadata": {},
   "outputs": [],
   "source": [
    "#Visão Temporária - não altera a estrutura original\n",
    "\n",
    "\n",
    "df_planes.createOrReplaceTempView('planes')"
   ]
  },
  {
   "cell_type": "markdown",
   "metadata": {},
   "source": [
    "#### Pergunta 1"
   ]
  },
  {
   "cell_type": "code",
   "execution_count": null,
   "metadata": {},
   "outputs": [],
   "source": [
    "# Atendendo os requisitos\n",
    "\n",
    "\n",
    "df_planes.withColumn(\"qa_tailnum\",\n",
    "                  (when(\n",
    "                          (df_planes.tailnum.isNull()) |\n",
    "                           (df_planes.tailnum == ''),\n",
    "                           lit('M')\n",
    "                        )\n",
    "                   .when(\n",
    "                         (length(trim(df_planes.tailnum))!= 6),\n",
    "                       lit('S')\n",
    "                      )\n",
    "                   .when(\n",
    "                         (df_planes.tailnum.rlike(\"^[N][0-9]{3}[a-zA-Z0-9]{2}$\")) == False,\n",
    "                        lit('F')\n",
    "                        )\n",
    "                   .when(\n",
    "                       (df_planes.tailnum.rlike(\"^[N]\") == False ),\n",
    "                       lit('FN')\n",
    "                       )\n",
    "                   .when(\n",
    "                       (df_planes.tailnum.rlike(\"^[N][I|O|0]\") == True),\n",
    "                       lit('FE')\n",
    "                       )\n",
    "                  )\n",
    "              ).show()"
   ]
  },
  {
   "cell_type": "markdown",
   "metadata": {},
   "source": [
    "#### Pergunta 2"
   ]
  },
  {
   "cell_type": "code",
   "execution_count": null,
   "metadata": {},
   "outputs": [],
   "source": [
    "# Atendendo os requisitos\n",
    "\n",
    "\n",
    "df_planes.withColumn(\"qa_year\",\n",
    "                  (when((df_planes.year.isNull()) |\n",
    "                        (df_planes.year == ''),\n",
    "                        lit('M')\n",
    "                      )\n",
    "                   .when((df_planes.year < 1950) |\n",
    "                         (df_planes.year == np.inf),\n",
    "                         lit('I')\n",
    "                       )\n",
    "                  )\n",
    ").show()"
   ]
  },
  {
   "cell_type": "markdown",
   "metadata": {},
   "source": [
    "#### Pergunta 3"
   ]
  },
  {
   "cell_type": "code",
   "execution_count": null,
   "metadata": {},
   "outputs": [],
   "source": [
    "# Atendendo os requisitos\n",
    "\n",
    "engines = ['Fixed wing multi engine',\n",
    "           'Fixed wing single engine',\n",
    "           'Rotorcraft'\n",
    "          ]\n",
    "df_planes.withColumn(\"qa_type\",\n",
    "                  (when((df_planes.type.isNull()) |\n",
    "                        (df_planes.type == ''),\n",
    "                        lit('M')\n",
    "                       )\n",
    "                   .when(~df_planes.type.isin(engines),\n",
    "                         lit('C')\n",
    "                        )\n",
    "                  )\n",
    ").show()"
   ]
  },
  {
   "cell_type": "markdown",
   "metadata": {},
   "source": [
    "#### Pergunta 4"
   ]
  },
  {
   "cell_type": "code",
   "execution_count": null,
   "metadata": {},
   "outputs": [],
   "source": [
    "# Atendendo os requisitos\n",
    "\n",
    "\n",
    "manufacturer = ['AIRBUS INDUSTRIE',\n",
    "                'BOEING',\n",
    "                'BOMBARDIER',\n",
    "                'CESSNA',\n",
    "                'EMBRAER',\n",
    "                'SIKORSKY',\n",
    "                'CANADAIR',\n",
    "                'PIPER',\n",
    "                'MCDONNELL DOUGLAS',\n",
    "                'CIRRUS',\n",
    "                'BELL',\n",
    "                'KILDALL GARY',\n",
    "                'LAMBERT RICHARD',\n",
    "                'BARKER JACK',\n",
    "                'ROBINSON HELICOPTER',\n",
    "                'GULFSTREAM',\n",
    "                'MARZ BARRY',\n",
    "               ]\n",
    "\n",
    "df_planes.withColumn(\"qa_manufacturer\",\n",
    "                     (when((df_planes.manufacturer.isNull()) |\n",
    "                           (df_planes.manufacturer == ''),\n",
    "                           lit('M')\n",
    "                         )\n",
    "                      .when(~df_planes.manufacturer.isin(manufacturer),\n",
    "                            lit('C')\n",
    "                          )\n",
    "                     )\n",
    "                 ).show()"
   ]
  },
  {
   "cell_type": "markdown",
   "metadata": {},
   "source": [
    "#### Pergunta 5"
   ]
  },
  {
   "cell_type": "code",
   "execution_count": null,
   "metadata": {},
   "outputs": [],
   "source": [
    "# Atendendo os requisitos\n",
    "\n",
    "## - comentar linha desejada para testagem em seperado\n",
    "\n",
    "\n",
    "df_planes.withColumn('qa_model',\n",
    "                     (when((df_planes.model.isNull()) |\n",
    "                           (df_planes.model == ''),\n",
    "                           lit('M')\n",
    "                         )\n",
    "                     )\n",
    "                     .when((df_planes.manufacturer == 'AIRBUS INDUSTRIE') &\n",
    "                           (~df_planes.model.rlike(\"^[A]\")), \n",
    "                           lit ('F')\n",
    "                     )\n",
    "                     .when((df_planes.manufacturer == 'BOEING') &\n",
    "                           (~df_planes.model.rlike(\"^[7]\")), \n",
    "                           lit ('F')\n",
    "                     )\n",
    "                     .when(\n",
    "                           ((df_planes.manufacturer == 'BOMBARDIER') | (df_planes.manufacturer == 'CANADIAR')) &\n",
    "                           (~df_planes.model.rlike(\"^[CL]\")), \n",
    "                           lit ('F')\n",
    "                     )\n",
    "                     .when((df_planes.manufacturer == 'MCDONELL DOUGLAS') &\n",
    "                           ((~df_planes.model.rlike(\"^[MD]\")) |\n",
    "                            (~df_planes.model.rlike(\"^[DC]\"))\n",
    "                           )\n",
    "                           , lit ('F')\n",
    "                     )\n",
    "                 ).show()"
   ]
  },
  {
   "cell_type": "markdown",
   "metadata": {},
   "source": [
    "#### Pergunta 6"
   ]
  },
  {
   "cell_type": "code",
   "execution_count": null,
   "metadata": {},
   "outputs": [],
   "source": [
    "# Atendendo os requisitos\n",
    "\n",
    "\n",
    "df_planes.withColumn('qa_engines',\n",
    "                     (when((df_planes.engines.isNull()) |\n",
    "                           (df_planes.engines == ''),\n",
    "                           lit('M')\n",
    "                         )\n",
    "                      .when(~df_planes.engines.between(1, 4),\n",
    "                            lit('I')\n",
    "                          )\n",
    "                      .when(df_planes.engines.rlike('^[a-zA-Z]*$'),\n",
    "                            lit('A')\n",
    "                          )\n",
    "                     )\n",
    "                 ).show()"
   ]
  },
  {
   "cell_type": "markdown",
   "metadata": {},
   "source": [
    "#### Pergunta 7"
   ]
  },
  {
   "cell_type": "code",
   "execution_count": null,
   "metadata": {},
   "outputs": [],
   "source": [
    "# Atendendo os requisitos\n",
    "\n",
    "df_planes.withColumn('qa_seats',\n",
    "                      (when((df_planes.seats.isNull()) |\n",
    "                            (df_planes.seats == ''),\n",
    "                            lit('M')\n",
    "                          )\n",
    "                       .when(~df_planes.seats.between(2,500),\n",
    "                             lit('I')\n",
    "                           )\n",
    "                       .when(df_planes.seats.rlike('^[a-zA-Z]*$'),\n",
    "                             lit('A')\n",
    "                           )\n",
    "                      )\n",
    "                 ).show()"
   ]
  },
  {
   "cell_type": "markdown",
   "metadata": {},
   "source": [
    "#### Pergunta 8"
   ]
  },
  {
   "cell_type": "code",
   "execution_count": null,
   "metadata": {},
   "outputs": [],
   "source": [
    "# Atendendo os requisitos\n",
    "\n",
    "\n",
    "\n",
    "df_planes.withColumn('qa_speed',\n",
    "                     (when((df_planes.speed.isNull()) |\n",
    "                           (df_planes.speed == ''),\n",
    "                           lit('M')\n",
    "                         )\n",
    "                      .when(~df_planes.speed.between(50,150),\n",
    "                            lit('I')\n",
    "                          )\n",
    "                      .when(df_planes.speed.rlike('^[a-zA-Z]*$'),\n",
    "                            lit('A')\n",
    "                          )\n",
    "                     )\n",
    "                 ).show()"
   ]
  },
  {
   "cell_type": "markdown",
   "metadata": {},
   "source": [
    "#### Pergunta 9"
   ]
  },
  {
   "cell_type": "code",
   "execution_count": null,
   "metadata": {},
   "outputs": [],
   "source": [
    "# Atendendo os requisitos\n",
    "\n",
    "\n",
    "\n",
    "engine_categories = ['Turbo-fan',\n",
    "                      'Turbo-jet',\n",
    "                      'Turbo-prop',\n",
    "                      'Turbo-shaft',\n",
    "                      '4 Cycle'\n",
    "                     ]\n",
    "\n",
    "df_planes.withColumn('qa_enginge',\n",
    "                     (when((df_planes.engine.isNull()) |\n",
    "                           (df_planes.engine == ''),\n",
    "                           lit('M')\n",
    "                         )\n",
    "                      .when(~df_planes.engine.isin(engine_categories),\n",
    "                            lit('C')\n",
    "                          )\n",
    "                     )\n",
    "                 ).show()"
   ]
  },
  {
   "cell_type": "markdown",
   "metadata": {},
   "source": [
    "### Gerando arquivo .parquet"
   ]
  },
  {
   "cell_type": "code",
   "execution_count": null,
   "metadata": {},
   "outputs": [],
   "source": [
    "\n",
    "(df_planes.repartition(1) \n",
    "            .write.format(\"parquet\")\n",
    "            .mode('overwrite')\n",
    "            .option(\"header\", \"true\")\n",
    ".save(\"C:/Users/danisant/parquets/planes_qa.parquet\")\n",
    ")"
   ]
  },
  {
   "cell_type": "code",
   "execution_count": null,
   "metadata": {},
   "outputs": [],
   "source": []
  },
  {
   "cell_type": "markdown",
   "metadata": {},
   "source": [
    "## Dataset flights.csv :"
   ]
  },
  {
   "cell_type": "code",
   "execution_count": null,
   "metadata": {},
   "outputs": [],
   "source": [
    "# Leitura/Carga do dataset\n",
    "\n",
    "\n",
    "df_flights = (spark.getOrCreate().read\n",
    "                  .format(\"csv\")\n",
    "                  .option(\"header\", \"true\")\n",
    "                  .schema(schema_flights)\n",
    "                  .load(\"C:/Users/danisant/Codes/flights.csv\"))"
   ]
  },
  {
   "cell_type": "code",
   "execution_count": null,
   "metadata": {},
   "outputs": [],
   "source": [
    "#Gerar a tabela de acordo com sua estrutura de colunas\n",
    "\n",
    "df_flights = df_flights[['year', 'month', 'day','hour', 'minute','dep_time','arr_time', 'dep_delay', 'arr_delay', 'carrier', 'tailnum', 'flight',\n",
    "        'origin','dest', 'air_time', 'distance']]"
   ]
  },
  {
   "cell_type": "code",
   "execution_count": null,
   "metadata": {},
   "outputs": [],
   "source": [
    "#Visões Temporárias - não altera a estrutura original\n",
    "\n",
    "\n",
    "df_flights.createOrReplaceTempView('flights')"
   ]
  },
  {
   "cell_type": "markdown",
   "metadata": {},
   "source": [
    "#### Pergunta 1:"
   ]
  },
  {
   "cell_type": "code",
   "execution_count": null,
   "metadata": {},
   "outputs": [],
   "source": [
    "# Atendendo os requisitos\n",
    "\n",
    "df_flights = df_flights.withColumn('qa_year_month_day',\n",
    "                                (when((df_flights.year.isNull()) |\n",
    "                                      (df_flights.year == ''),\n",
    "                                      lit('MY')\n",
    "                                    )\n",
    "                                 .when((df_flights.month.isNull()) |\n",
    "                                      (df_flights.month == ''),\n",
    "                                      lit('MM')\n",
    "                                    )\n",
    "                                 .when((df_flights.day.isNull()) |\n",
    "                                      (df_flights.day == ''),\n",
    "                                      lit('MD')\n",
    "                                    )\n",
    "                                 .when((df_flights.year< 1950), \n",
    "                                      lit('IY')\n",
    "                                    )\n",
    "                                 .when((~df_flights.month.between(1,12)), \n",
    "                                      lit('IM')\n",
    "                                )\n",
    "                                 .when(((df_flights.year == 2) & (~df_flights.day.between(1,29))) |\n",
    "                                       ((df_flights.year != 2) & (~df_flights.day.between(1,31))), \n",
    "                                       lit('IY'))\n",
    "                            ))\n",
    "\n",
    "\n",
    "\n"
   ]
  },
  {
   "cell_type": "markdown",
   "metadata": {},
   "source": [
    "#### Pergunta 2:"
   ]
  },
  {
   "cell_type": "code",
   "execution_count": null,
   "metadata": {},
   "outputs": [],
   "source": [
    "# Atendendo os requisitos\n",
    "\n",
    "\n",
    "df_flights.withColumn('qa_hour_minute',\n",
    "                      (when((df_flights.hour.isNull()) |\n",
    "                            (df_flights.hour == ''),\n",
    "                            lit('MH')\n",
    "                          )\n",
    "                       .when((df_flights.minute.isNull()) |\n",
    "                             (df_flights.minute == ''),\n",
    "                             lit('MM')\n",
    "                           )\n",
    "                       .when(~df_flights.hour.between(0,24), lit('IH'))\n",
    "                       .when(~df_flights.minute.between(0,60), lit('IM'))\n",
    "                      )\n",
    "                  ).show(1)"
   ]
  },
  {
   "cell_type": "markdown",
   "metadata": {},
   "source": [
    "#### Pergunta 3:"
   ]
  },
  {
   "cell_type": "code",
   "execution_count": null,
   "metadata": {},
   "outputs": [],
   "source": [
    "# Atendendo os requisitos\n",
    "\n",
    "\n",
    "qa_dep_arr_time = df_flights.withColumn('qa_dep_arr_time',\n",
    "                       (when((df_flights.dep_time.isNull()) |\n",
    "                             (df_flights.dep_time == ''),\n",
    "                             lit('MD')\n",
    "                           )\n",
    "                        .when((df_flights.arr_time.isNull()) |\n",
    "                              (df_flights.arr_time == ''),\n",
    "                              lit('MA')\n",
    "                            )\n",
    "                        .when((length(df_flights.dep_time) < 3 ) |\n",
    "                              (length(df_flights.dep_time) > 4 ),\n",
    "                              lit('FD')\n",
    "                             )\n",
    "                        .when((length(df_flights.arr_time) < 3 ) |\n",
    "                              (length(df_flights.arr_time) > 4 ),\n",
    "                              lit('FD')\n",
    "                             )\n",
    "                        .when((length(df_flights.dep_time) == 3) &\n",
    "                              (~df_flights.dep_time.substr(1,1).cast('int').between(0, 24)) &\n",
    "                              (~df_flights.dep_time.substr(2,3).cast('int').between(0,60)),\n",
    "                              lit('FD')\n",
    "                            )\n",
    "                        .when((length(df_flights.dep_time) == 4) &\n",
    "                              (~df_flights.dep_time.substr(1,2).cast('int').between(0, 24)) &\n",
    "                              (~df_flights.dep_time.substr(3,4).cast('int').between(0,60)), \n",
    "                              lit('FD')\n",
    "                            )\n",
    "                        .when((length(df_flights.arr_time) == 3) &\n",
    "                              (~df_flights.arr_time.substr(1,1).cast('int').between(0, 24)) &\n",
    "                              (~df_flights.arr_time.substr(2,3).cast('int').between(0,60)), \n",
    "                              lit('FD')\n",
    "                            )\n",
    "                        .when((length(df_flights.dep_time) == 4) &\n",
    "                              (~df_flights.arr_time.substr(1,2).cast('int').between(0, 24)) &\n",
    "                              (~df_flights.arr_time.substr(3,4).cast('int').between(0,60)), \n",
    "                              lit('FD')\n",
    "                           )  \n",
    "                       )\n",
    "                  )"
   ]
  },
  {
   "cell_type": "markdown",
   "metadata": {},
   "source": [
    "#### Pergunta 4:"
   ]
  },
  {
   "cell_type": "code",
   "execution_count": null,
   "metadata": {},
   "outputs": [],
   "source": [
    "# Atendendo os requisitos\n",
    "\n",
    "df_flights.withColumn('qa_dep_arr_delay',\n",
    "                      (when((df_flights.dep_delay.isNull()) |\n",
    "                            (df_flights.dep_delay == ''),\n",
    "                            lit('MD')\n",
    "                          )\n",
    "                       .when((df_flights.arr_delay.isNull()) |\n",
    "                            (df_flights.arr_delay == ''),\n",
    "                            lit('MA')\n",
    "                           )\n",
    "                      )\n",
    "                  ).show(1)"
   ]
  },
  {
   "cell_type": "markdown",
   "metadata": {},
   "source": [
    "#### Pergunta 5:"
   ]
  },
  {
   "cell_type": "code",
   "execution_count": null,
   "metadata": {},
   "outputs": [],
   "source": [
    "# Atendendo os requisitos\n",
    "\n",
    "\n",
    "df_flights.withColumn('qa_carrier',\n",
    "                      (when((df_flights.carrier.isNull()) |\n",
    "                            (df_flights.carrier == ''),\n",
    "                            lit('M')\n",
    "                          )\n",
    "                       .when((df_flights.carrier.rlike(\"^[a-zA-Z-0-9]+$\") == False),\n",
    "                             lit('F')\n",
    "                           )\n",
    "                      )\n",
    "                  ).show(1)\n"
   ]
  },
  {
   "cell_type": "markdown",
   "metadata": {},
   "source": [
    "#### Pergunta 6:"
   ]
  },
  {
   "cell_type": "code",
   "execution_count": null,
   "metadata": {},
   "outputs": [],
   "source": [
    "tailnum = df_flights.tailnum\n"
   ]
  },
  {
   "cell_type": "code",
   "execution_count": null,
   "metadata": {},
   "outputs": [],
   "source": [
    "# Atendendo os requisitos\n",
    "\n",
    "df_flights.withColumn('qa_tailnum',\n",
    "                      (when((tailnum.isNull()) |\n",
    "                            (tailnum == ''),\n",
    "                            lit('M')\n",
    "                          )\n",
    "                       .when(length(tailnum )!= 6,\n",
    "                            lit('S')\n",
    "                           )\n",
    "                       .when(tailnum.rlike(\"^[N][0-9]{3}[a-zA-Z0-9]{2}$\") == False,\n",
    "                            lit('F')\n",
    "                            )\n",
    "                       .when(tailnum.rlike('^[N]') == False,\n",
    "                            lit('FN')\n",
    "                            )\n",
    "                       .when((tailnum.substr(2,2) == 'O') |\n",
    "                             (tailnum.substr(5,5) == 'I') | \n",
    "                             (tailnum.substr(5,5) == 'O') |\n",
    "                             (tailnum.substr(6,6) == 'I') |\n",
    "                             (tailnum.substr(6,6) == 'I'),\n",
    "                             lit('FE')\n",
    "                            )\n",
    "                      )\n",
    "                  ).show(1)\n"
   ]
  },
  {
   "cell_type": "markdown",
   "metadata": {},
   "source": [
    "#### Pergunta 7:"
   ]
  },
  {
   "cell_type": "code",
   "execution_count": null,
   "metadata": {},
   "outputs": [],
   "source": [
    "# Atendendo os requisitos\n",
    "\n",
    "qa_flight = df_flights.flight\n",
    "df_flights.withColumn('qa_flight',\n",
    "                      (when((qa_flight.isNull()) |\n",
    "                            (qa_flight == ''),\n",
    "                            lit('M')\n",
    "                          )\n",
    "                       .when((length(qa_flight) != 4) &\n",
    "                             (qa_flight.rlike(\"[a-zA-Z]\") == True),\n",
    "                             lit('F')\n",
    "                           )\n",
    "                      )\n",
    "                  ).show(1)"
   ]
  },
  {
   "cell_type": "markdown",
   "metadata": {},
   "source": [
    "#### Pergunta 8:"
   ]
  },
  {
   "cell_type": "code",
   "execution_count": null,
   "metadata": {},
   "outputs": [],
   "source": [
    "# Atendendo os requisitos\n",
    "\n",
    "origin = df_flights.origin\n",
    "dest   = df_flights.dest\n",
    "\n",
    "df_flights.withColumn('qa_origin_dest',\n",
    "                      (when((origin.isNull()) |\n",
    "                            (origin == ''),\n",
    "                            lit('MO')\n",
    "                          )\n",
    "                       .when((dest.isNull()) |\n",
    "                            (dest == ''),\n",
    "                            lit('MD')\n",
    "                      )\n",
    "                       .when(origin.rlike(\"[a-zA-Z0-9]{3}\") == False,\n",
    "                            lit('FO')\n",
    "                            )\n",
    "                       .when(dest.rlike(\"[a-zA-Z0-9]{3}\") == False,\n",
    "                            lit('FD')\n",
    "                            )\n",
    "                  )\n",
    "                ).show(1)"
   ]
  },
  {
   "cell_type": "markdown",
   "metadata": {},
   "source": [
    "#### Pergunta 9:"
   ]
  },
  {
   "cell_type": "code",
   "execution_count": null,
   "metadata": {},
   "outputs": [],
   "source": [
    "# Atendendo os requisitos\n",
    "\n",
    "air_time = df_flights.air_time \n",
    "\n",
    "df_flights.withColumn('qa_airtime',\n",
    "                      (when((air_time.isNull()) |\n",
    "                            (air_time == ''),\n",
    "                            lit('M')\n",
    "                          )\n",
    "                       .when(~air_time.between(20,500),\n",
    "                            lit('I')\n",
    "                            )\n",
    "                      )\n",
    "                  ).show(1)"
   ]
  },
  {
   "cell_type": "markdown",
   "metadata": {},
   "source": [
    "#### Pergunta 10:"
   ]
  },
  {
   "cell_type": "code",
   "execution_count": null,
   "metadata": {},
   "outputs": [],
   "source": [
    "# Atendendo os requisitos\n",
    "\n",
    "distance = df_flights.distance \n",
    "\n",
    "df_flights.withColumn('qa_distance',\n",
    "                      (when((distance.isNull()) |\n",
    "                            (distance == ''),\n",
    "                            lit('M')\n",
    "                          )\n",
    "                       .when(~distance.between(50,3000),\n",
    "                            lit('I')\n",
    "                            )\n",
    "                      )\n",
    "                  ).show(1)"
   ]
  },
  {
   "cell_type": "markdown",
   "metadata": {},
   "source": [
    "#### Pergunta 11:"
   ]
  },
  {
   "cell_type": "code",
   "execution_count": null,
   "metadata": {},
   "outputs": [],
   "source": [
    "df_flights.withColumn('qa_airtime_distance',\n",
    "                  (when((air_time.isNull()) |\n",
    "                        (air_time == '') |\n",
    "                        (distance.isNull()) |\n",
    "                        (distance == ''),\n",
    "                        lit('M')\n",
    "                      )\n",
    "                   .when(air_time >= (distance * 0.1) + 30,\n",
    "                         lit('TL')\n",
    "                       )\n",
    "                   .when(air_time <= (distance * 0.1) + 10,\n",
    "                         lit('TS')\n",
    "                       )\n",
    "                   .when((air_time > (distance * 0.1) + 10) &\n",
    "                         (air_time < (distance * 0.1) + 30),\n",
    "                         lit('TR')\n",
    "                        )\n",
    "                  )\n",
    "                  ).show()"
   ]
  },
  {
   "cell_type": "markdown",
   "metadata": {},
   "source": [
    "### Gerando arquivo .parquet"
   ]
  },
  {
   "cell_type": "code",
   "execution_count": null,
   "metadata": {},
   "outputs": [],
   "source": [
    "(df_flights.repartition(1) \n",
    "            .write.format(\"parquet\")\n",
    "            .mode('overwrite')\n",
    "            .option(\"header\", \"true\")\n",
    ".save(\"C:/Users/danisant/parquets/flights_qa.parquet\")\n",
    ")"
   ]
  }
 ],
 "metadata": {
  "datalore": {
   "base_environment": "default",
   "computation_mode": "JUPYTER",
   "package_manager": "pip",
   "packages": [],
   "version": 1
  },
  "kernelspec": {
   "display_name": "Python 3 (ipykernel)",
   "language": "python",
   "name": "python3"
  },
  "language_info": {
   "codemirror_mode": {
    "name": "ipython",
    "version": 3
   },
   "file_extension": ".py",
   "mimetype": "text/x-python",
   "name": "python",
   "nbconvert_exporter": "python",
   "pygments_lexer": "ipython3",
   "version": "3.9.7"
  }
 },
 "nbformat": 4,
 "nbformat_minor": 4
}
