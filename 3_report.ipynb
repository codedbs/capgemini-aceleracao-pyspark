{
 "cells": [
  {
   "cell_type": "code",
   "execution_count": 1,
   "metadata": {
    "datalore": {
     "hide_input_from_viewers": false,
     "hide_output_from_viewers": false,
     "type": "CODE"
    }
   },
   "outputs": [
    {
     "name": "stdout",
     "output_type": "stream",
     "text": [
      "Requirement already satisfied: pyspark in c:\\users\\danisant\\anaconda3\\lib\\site-packages (3.2.1)\n",
      "Requirement already satisfied: py4j==0.10.9.3 in c:\\users\\danisant\\anaconda3\\lib\\site-packages (from pyspark) (0.10.9.3)\n",
      "Requirement already satisfied: findspark in c:\\users\\danisant\\anaconda3\\lib\\site-packages (2.0.1)\n"
     ]
    }
   ],
   "source": [
    "# Instalação dos pacotes necessários\n",
    "!pip install pyspark\n",
    "!pip install findspark"
   ]
  },
  {
   "cell_type": "code",
   "execution_count": 2,
   "metadata": {
    "datalore": {
     "hide_input_from_viewers": false,
     "hide_output_from_viewers": false,
     "type": "CODE"
    }
   },
   "outputs": [],
   "source": [
    "# Importação e inicialização do findspark\n",
    "\n",
    "import findspark\n",
    "findspark.init()\n"
   ]
  },
  {
   "cell_type": "code",
   "execution_count": 35,
   "metadata": {
    "datalore": {
     "hide_input_from_viewers": false,
     "hide_output_from_viewers": false,
     "type": "CODE"
    }
   },
   "outputs": [],
   "source": [
    "# Importação dos pacotes necessários ao pyspark\n",
    "\n",
    "from pyspark import SparkContext, SparkConf\n",
    "from pyspark.sql import SparkSession\n",
    "from pyspark.sql import SQLContext\n",
    "from pyspark.sql import SparkSession, functions as F\n",
    "\n",
    "from pyspark.sql.functions import udf\n",
    "from pyspark.sql.functions import rank, col"
   ]
  },
  {
   "cell_type": "code",
   "execution_count": 4,
   "metadata": {
    "datalore": {
     "hide_input_from_viewers": false,
     "hide_output_from_viewers": false,
     "type": "CODE"
    }
   },
   "outputs": [],
   "source": [
    "# Criação do contexto do spark\n",
    "sc = SparkContext()\n",
    "\n",
    "# Instância do criador de sessão do spark\n",
    "spark = (SparkSession.builder\n",
    "                     .master(\"local[*]\")\n",
    "                     .appName(\"Etapa de Relatórios - Aceleração PySpark/Capgemini\")\n",
    "                    .getOrCreate())"
   ]
  },
  {
   "cell_type": "markdown",
   "metadata": {},
   "source": [
    "### Relatório - Qualidade"
   ]
  },
  {
   "cell_type": "markdown",
   "metadata": {},
   "source": [
    "### Pergunta 1"
   ]
  },
  {
   "cell_type": "code",
   "execution_count": 50,
   "metadata": {
    "datalore": {
     "hide_input_from_viewers": false,
     "hide_output_from_viewers": false,
     "type": "CODE"
    }
   },
   "outputs": [],
   "source": [
    "# Leitura dos arquivos parquet\n",
    "\n",
    "df_airports_qa = spark.read.parquet(\"C:/Users/danisant/parquets/airports_qa.parquet\")\n",
    "\n",
    "df_planes_qa = spark.read.parquet(\"C:/Users/danisant/parquets/planes_qa.parquet\")\n",
    "\n",
    "df_flights_qa = spark.read.parquet(\"C:/Users/danisant/parquets/flights_qa.parquet\")\n"
   ]
  },
  {
   "cell_type": "code",
   "execution_count": 51,
   "metadata": {},
   "outputs": [
    {
     "name": "stdout",
     "output_type": "stream",
     "text": [
      "1397\n",
      "2628\n",
      "10000\n"
     ]
    }
   ],
   "source": [
    "# verificando quantidade de linhas em cada .parquet\n",
    "\n",
    "\n",
    "print(df_airports_qa.count())\n",
    "print(df_planes_qa.count())\n",
    "print(df_flights_qa.count())\n"
   ]
  },
  {
   "cell_type": "code",
   "execution_count": 52,
   "metadata": {},
   "outputs": [
    {
     "name": "stdout",
     "output_type": "stream",
     "text": [
      "root\n",
      " |-- faa: string (nullable = true)\n",
      " |-- qa_faa: string (nullable = true)\n",
      " |-- qa_name: string (nullable = true)\n",
      " |-- qa_lat: string (nullable = true)\n",
      " |-- qa_lon: string (nullable = true)\n",
      " |-- qa_alt: string (nullable = true)\n",
      " |-- qa_tz: string (nullable = true)\n",
      " |-- qa_dst: string (nullable = true)\n",
      "\n",
      "root\n",
      " |-- tailnum: string (nullable = true)\n",
      " |-- qa_tailnum: string (nullable = true)\n",
      " |-- qa_year: string (nullable = true)\n",
      " |-- qa_type: string (nullable = true)\n",
      " |-- qa_manufacturer: string (nullable = true)\n",
      " |-- qa_model: string (nullable = true)\n",
      " |-- qa_engines: string (nullable = true)\n",
      " |-- qa_seats: string (nullable = true)\n",
      " |-- qa_speed: string (nullable = true)\n",
      " |-- qa_engine: string (nullable = true)\n",
      "\n",
      "root\n",
      " |-- tailnum: string (nullable = true)\n",
      " |-- origin: string (nullable = true)\n",
      " |-- dest: string (nullable = true)\n",
      " |-- qa_year_month_day: string (nullable = true)\n",
      " |-- qa_hour_minute: string (nullable = true)\n",
      " |-- qa_dep_arr_time: string (nullable = true)\n",
      " |-- qa_dep_arr_delay: string (nullable = true)\n",
      " |-- qa_carrier: string (nullable = true)\n",
      " |-- qa_tailnum: string (nullable = true)\n",
      " |-- qa_flight: string (nullable = true)\n",
      " |-- qa_origin_dest: string (nullable = true)\n",
      " |-- qa_air_time: string (nullable = true)\n",
      " |-- qa_distance: string (nullable = true)\n",
      " |-- qa_distance_airtime: string (nullable = true)\n",
      "\n"
     ]
    }
   ],
   "source": [
    "## removendo colunas indesejadas para a análise\n",
    "\n",
    "df_airports_qa = df_airports_qa.drop('name','lat','lon','alt','tz','dst')\n",
    "df_airports_qa.printSchema()\n",
    "\n",
    "\n",
    "df_planes_qa = df_planes_qa.drop('year','type','manufacturer','model','engines','seats','speed','engine')\n",
    "df_planes_qa.printSchema()\n",
    "\n",
    "\n",
    "df_flights_qa = df_flights_qa.drop('year','month','day','hour',\n",
    "                                   'minute','dep_time','arr_time',\n",
    "                                   'dep_delay','arr_delay','carrier',\n",
    "                                    'flight','air_time','distance')\n",
    "\n",
    "df_flights_qa.printSchema()"
   ]
  },
  {
   "cell_type": "code",
   "execution_count": null,
   "metadata": {},
   "outputs": [],
   "source": [
    "## renomeando as colunas para evitar duplicidade\n",
    "\n",
    "df_planes_qa = (df_planes_qa.withColumnRenamed(\"tailnum\",\"tailnum_plane\")\n",
    "                            .withColumnRenamed('qa_tailnum', 'qa_tailnum_P'))"
   ]
  },
  {
   "cell_type": "code",
   "execution_count": 12,
   "metadata": {},
   "outputs": [
    {
     "name": "stdout",
     "output_type": "stream",
     "text": [
      "root\n",
      " |-- qa_year_month_day: string (nullable = true)\n",
      " |-- qa_hour_minute: string (nullable = true)\n",
      " |-- qa_dep_arr_time: string (nullable = true)\n",
      " |-- qa_dep_arr_delay: string (nullable = true)\n",
      " |-- qa_carrier: string (nullable = true)\n",
      " |-- qa_tailnum: string (nullable = true)\n",
      " |-- qa_flight: string (nullable = true)\n",
      " |-- qa_origin_dest: string (nullable = true)\n",
      " |-- qa_air_time: string (nullable = true)\n",
      " |-- qa_distance: string (nullable = true)\n",
      " |-- qa_distance_airtime: string (nullable = true)\n",
      " |-- qa_tailnum_P: string (nullable = true)\n",
      " |-- qa_year: string (nullable = true)\n",
      " |-- qa_type: string (nullable = true)\n",
      " |-- qa_manufacturer: string (nullable = true)\n",
      " |-- qa_model: string (nullable = true)\n",
      " |-- qa_engines: string (nullable = true)\n",
      " |-- qa_seats: string (nullable = true)\n",
      " |-- qa_speed: string (nullable = true)\n",
      " |-- qa_engine: string (nullable = true)\n",
      " |-- qa_faa: string (nullable = true)\n",
      " |-- qa_name: string (nullable = true)\n",
      " |-- qa_lat: string (nullable = true)\n",
      " |-- qa_lon: string (nullable = true)\n",
      " |-- qa_alt: string (nullable = true)\n",
      " |-- qa_tz: string (nullable = true)\n",
      " |-- qa_dst: string (nullable = true)\n",
      " |-- qa_faa_1: string (nullable = true)\n",
      " |-- qa_name_1: string (nullable = true)\n",
      " |-- qa_lat_1: string (nullable = true)\n",
      " |-- qa_lon_1: string (nullable = true)\n",
      " |-- qa_alt_1: string (nullable = true)\n",
      " |-- qa_tz_1: string (nullable = true)\n",
      " |-- qa_dst_1: string (nullable = true)\n",
      "\n",
      "10000\n"
     ]
    }
   ],
   "source": [
    "# unindo os datasets e criando os relacionamentos entre as colunas necessárias\n",
    "\n",
    "\n",
    "\n",
    "\n",
    "df = df_flights_qa.join(df_planes_qa,\n",
    "            df_flights_qa.tailnum == df_planes_qa.tailnum_plane,\n",
    "            \"left\")\n",
    "\n",
    "\n",
    "df = df.join(df_airports_qa,\n",
    "                        df_flights_qa.origin == df_airports_qa.faa,\n",
    "                       \"left\")\n",
    "\n",
    "\n",
    "\n",
    "\n",
    "df = df.join(df_airports_qa_1,\n",
    "                        df_flights_qa.dest == df_airports_qa_1.faa_1,\n",
    "                       \"left\")\n",
    "\n",
    "\n",
    "df = df.drop('tailnum','origin','dest','faa','faa_1','tailnum_plane','qa_tailnum_plane')\n",
    "\n",
    "df.printSchema()\n",
    "\n",
    "print(df.count())\n",
    "\n",
    "\n"
   ]
  },
  {
   "cell_type": "markdown",
   "metadata": {},
   "source": [
    "### Pergunta 2"
   ]
  },
  {
   "cell_type": "code",
   "execution_count": 13,
   "metadata": {},
   "outputs": [
    {
     "name": "stdout",
     "output_type": "stream",
     "text": [
      "+------+-----------------+\n",
      "|Issues|qa_year_month_day|\n",
      "+------+-----------------+\n",
      "+------+-----------------+\n",
      "\n",
      "+------+--------------+\n",
      "|Issues|qa_hour_minute|\n",
      "+------+--------------+\n",
      "|     M|            48|\n",
      "+------+--------------+\n",
      "\n",
      "+------+---------------+\n",
      "|Issues|qa_dep_arr_time|\n",
      "+------+---------------+\n",
      "|     M|             55|\n",
      "|     F|            241|\n",
      "+------+---------------+\n",
      "\n",
      "+------+----------------+\n",
      "|Issues|qa_dep_arr_delay|\n",
      "+------+----------------+\n",
      "|     M|              75|\n",
      "+------+----------------+\n",
      "\n",
      "+------+----------+\n",
      "|Issues|qa_carrier|\n",
      "+------+----------+\n",
      "+------+----------+\n",
      "\n",
      "+------+----------+\n",
      "|Issues|qa_tailnum|\n",
      "+------+----------+\n",
      "|     M|        14|\n",
      "|     F|       989|\n",
      "+------+----------+\n",
      "\n",
      "+------+---------+\n",
      "|Issues|qa_flight|\n",
      "+------+---------+\n",
      "|     F|     6158|\n",
      "+------+---------+\n",
      "\n",
      "+------+--------------+\n",
      "|Issues|qa_origin_dest|\n",
      "+------+--------------+\n",
      "+------+--------------+\n",
      "\n",
      "+------+-----------+\n",
      "|Issues|qa_air_time|\n",
      "+------+-----------+\n",
      "|     M|         75|\n",
      "+------+-----------+\n",
      "\n",
      "+------+-----------+\n",
      "|Issues|qa_distance|\n",
      "+------+-----------+\n",
      "+------+-----------+\n",
      "\n",
      "+------+-------------------+\n",
      "|Issues|qa_distance_airtime|\n",
      "+------+-------------------+\n",
      "|     M|                 75|\n",
      "|     T|               9925|\n",
      "+------+-------------------+\n",
      "\n",
      "+------+------------+\n",
      "|Issues|qa_tailnum_P|\n",
      "+------+------------+\n",
      "|     F|         552|\n",
      "+------+------------+\n",
      "\n",
      "+------+-------+\n",
      "|Issues|qa_year|\n",
      "+------+-------+\n",
      "|     I|      8|\n",
      "|     M|     94|\n",
      "+------+-------+\n",
      "\n",
      "+------+-------+\n",
      "|Issues|qa_type|\n",
      "+------+-------+\n",
      "+------+-------+\n",
      "\n",
      "+------+---------------+\n",
      "|Issues|qa_manufacturer|\n",
      "+------+---------------+\n",
      "+------+---------------+\n",
      "\n",
      "+------+--------+\n",
      "|Issues|qa_model|\n",
      "+------+--------+\n",
      "|     F|       9|\n",
      "+------+--------+\n",
      "\n",
      "+------+----------+\n",
      "|Issues|qa_engines|\n",
      "+------+----------+\n",
      "+------+----------+\n",
      "\n",
      "+------+--------+\n",
      "|Issues|qa_seats|\n",
      "+------+--------+\n",
      "+------+--------+\n",
      "\n",
      "+------+--------+\n",
      "|Issues|qa_speed|\n",
      "+------+--------+\n",
      "|     M|    9443|\n",
      "+------+--------+\n",
      "\n",
      "+------+---------+\n",
      "|Issues|qa_engine|\n",
      "+------+---------+\n",
      "+------+---------+\n",
      "\n",
      "+------+------+\n",
      "|Issues|qa_faa|\n",
      "+------+------+\n",
      "|     F| 10000|\n",
      "+------+------+\n",
      "\n",
      "+------+-------+\n",
      "|Issues|qa_name|\n",
      "+------+-------+\n",
      "+------+-------+\n",
      "\n",
      "+------+------+\n",
      "|Issues|qa_lat|\n",
      "+------+------+\n",
      "+------+------+\n",
      "\n",
      "+------+------+\n",
      "|Issues|qa_lon|\n",
      "+------+------+\n",
      "+------+------+\n",
      "\n",
      "+------+------+\n",
      "|Issues|qa_alt|\n",
      "+------+------+\n",
      "+------+------+\n",
      "\n",
      "+------+-----+\n",
      "|Issues|qa_tz|\n",
      "+------+-----+\n",
      "+------+-----+\n",
      "\n",
      "+------+------+\n",
      "|Issues|qa_dst|\n",
      "+------+------+\n",
      "+------+------+\n",
      "\n",
      "+------+--------+\n",
      "|Issues|qa_faa_1|\n",
      "+------+--------+\n",
      "|     F|   10000|\n",
      "+------+--------+\n",
      "\n",
      "+------+---------+\n",
      "|Issues|qa_name_1|\n",
      "+------+---------+\n",
      "+------+---------+\n",
      "\n",
      "+------+--------+\n",
      "|Issues|qa_lat_1|\n",
      "+------+--------+\n",
      "+------+--------+\n",
      "\n",
      "+------+--------+\n",
      "|Issues|qa_lon_1|\n",
      "+------+--------+\n",
      "+------+--------+\n",
      "\n",
      "+------+--------+\n",
      "|Issues|qa_alt_1|\n",
      "+------+--------+\n",
      "+------+--------+\n",
      "\n",
      "+------+-------+\n",
      "|Issues|qa_tz_1|\n",
      "+------+-------+\n",
      "+------+-------+\n",
      "\n",
      "+------+--------+\n",
      "|Issues|qa_dst_1|\n",
      "+------+--------+\n",
      "+------+--------+\n",
      "\n"
     ]
    }
   ],
   "source": [
    "#\n",
    "names = df.schema.names\n",
    "\n",
    "for column in names:\n",
    "    df = df.withColumn(column, (F.when((F.col(column).startswith(\"M\")) ,\"M\")\n",
    "    .when((F.col(column).startswith(\"F\")) ,\"F\")\n",
    "    .when((F.col(column).startswith(\"I\")) ,\"I\")\n",
    "    .when((F.col(column).startswith(\"S\")) ,\"S\")\n",
    "    .when((F.col(column).startswith(\"T\")) ,\"T\").otherwise(F.col(column))\n",
    "    ))\n",
    "\n",
    "    df.filter((F.col(column).isNotNull()) & (F.col(column).isin(\"M\",\"F\",\"I\",\"S\",\"T\"))).select(F.col(column)).groupBy(F.col(column).alias(\"Issues\")).agg(F.count(F.col(column)).cast('int').alias(column)).orderBy(F.col(column)).show()\n",
    "\n"
   ]
  },
  {
   "cell_type": "markdown",
   "metadata": {},
   "source": [
    "### Pergunta 3\n"
   ]
  },
  {
   "cell_type": "code",
   "execution_count": 34,
   "metadata": {},
   "outputs": [
    {
     "name": "stdout",
     "output_type": "stream",
     "text": [
      "+-----------------+-----+\n",
      "|qa_year_month_day|count|\n",
      "+-----------------+-----+\n",
      "+-----------------+-----+\n",
      "\n",
      "+--------------+-----+\n",
      "|qa_hour_minute|count|\n",
      "+--------------+-----+\n",
      "|             M|   48|\n",
      "+--------------+-----+\n",
      "\n",
      "+---------------+-----+\n",
      "|qa_dep_arr_time|count|\n",
      "+---------------+-----+\n",
      "|              M|   55|\n",
      "+---------------+-----+\n",
      "\n",
      "+----------------+-----+\n",
      "|qa_dep_arr_delay|count|\n",
      "+----------------+-----+\n",
      "|               M|   75|\n",
      "+----------------+-----+\n",
      "\n",
      "+----------+-----+\n",
      "|qa_carrier|count|\n",
      "+----------+-----+\n",
      "+----------+-----+\n",
      "\n",
      "+----------+-----+\n",
      "|qa_tailnum|count|\n",
      "+----------+-----+\n",
      "|         M|   14|\n",
      "+----------+-----+\n",
      "\n",
      "+---------+-----+\n",
      "|qa_flight|count|\n",
      "+---------+-----+\n",
      "+---------+-----+\n",
      "\n",
      "+--------------+-----+\n",
      "|qa_origin_dest|count|\n",
      "+--------------+-----+\n",
      "+--------------+-----+\n",
      "\n",
      "+-----------+-----+\n",
      "|qa_air_time|count|\n",
      "+-----------+-----+\n",
      "|          M|   75|\n",
      "+-----------+-----+\n",
      "\n",
      "+-----------+-----+\n",
      "|qa_distance|count|\n",
      "+-----------+-----+\n",
      "+-----------+-----+\n",
      "\n",
      "+-------------------+-----+\n",
      "|qa_distance_airtime|count|\n",
      "+-------------------+-----+\n",
      "|                  M|   75|\n",
      "+-------------------+-----+\n",
      "\n",
      "+------------+-----+\n",
      "|qa_tailnum_P|count|\n",
      "+------------+-----+\n",
      "+------------+-----+\n",
      "\n",
      "+-------+-----+\n",
      "|qa_year|count|\n",
      "+-------+-----+\n",
      "|      M|   94|\n",
      "+-------+-----+\n",
      "\n",
      "+-------+-----+\n",
      "|qa_type|count|\n",
      "+-------+-----+\n",
      "+-------+-----+\n",
      "\n",
      "+---------------+-----+\n",
      "|qa_manufacturer|count|\n",
      "+---------------+-----+\n",
      "+---------------+-----+\n",
      "\n",
      "+--------+-----+\n",
      "|qa_model|count|\n",
      "+--------+-----+\n",
      "+--------+-----+\n",
      "\n",
      "+----------+-----+\n",
      "|qa_engines|count|\n",
      "+----------+-----+\n",
      "+----------+-----+\n",
      "\n",
      "+--------+-----+\n",
      "|qa_seats|count|\n",
      "+--------+-----+\n",
      "+--------+-----+\n",
      "\n",
      "+--------+-----+\n",
      "|qa_speed|count|\n",
      "+--------+-----+\n",
      "|       M| 9443|\n",
      "+--------+-----+\n",
      "\n",
      "+---------+-----+\n",
      "|qa_engine|count|\n",
      "+---------+-----+\n",
      "+---------+-----+\n",
      "\n",
      "+------+-----+\n",
      "|qa_faa|count|\n",
      "+------+-----+\n",
      "+------+-----+\n",
      "\n",
      "+-------+-----+\n",
      "|qa_name|count|\n",
      "+-------+-----+\n",
      "+-------+-----+\n",
      "\n",
      "+------+-----+\n",
      "|qa_lat|count|\n",
      "+------+-----+\n",
      "+------+-----+\n",
      "\n",
      "+------+-----+\n",
      "|qa_lon|count|\n",
      "+------+-----+\n",
      "+------+-----+\n",
      "\n",
      "+------+-----+\n",
      "|qa_alt|count|\n",
      "+------+-----+\n",
      "+------+-----+\n",
      "\n",
      "+-----+-----+\n",
      "|qa_tz|count|\n",
      "+-----+-----+\n",
      "+-----+-----+\n",
      "\n",
      "+------+-----+\n",
      "|qa_dst|count|\n",
      "+------+-----+\n",
      "+------+-----+\n",
      "\n",
      "+--------+-----+\n",
      "|qa_faa_1|count|\n",
      "+--------+-----+\n",
      "+--------+-----+\n",
      "\n",
      "+---------+-----+\n",
      "|qa_name_1|count|\n",
      "+---------+-----+\n",
      "+---------+-----+\n",
      "\n",
      "+--------+-----+\n",
      "|qa_lat_1|count|\n",
      "+--------+-----+\n",
      "+--------+-----+\n",
      "\n",
      "+--------+-----+\n",
      "|qa_lon_1|count|\n",
      "+--------+-----+\n",
      "+--------+-----+\n",
      "\n",
      "+--------+-----+\n",
      "|qa_alt_1|count|\n",
      "+--------+-----+\n",
      "+--------+-----+\n",
      "\n",
      "+-------+-----+\n",
      "|qa_tz_1|count|\n",
      "+-------+-----+\n",
      "+-------+-----+\n",
      "\n",
      "+--------+-----+\n",
      "|qa_dst_1|count|\n",
      "+--------+-----+\n",
      "+--------+-----+\n",
      "\n"
     ]
    }
   ],
   "source": [
    "for column in df.columns:\n",
    "    if 'qa' in column:\n",
    "        df.filter(F.col(column).isNotNull() & (F.col(column).startswith('M'))).groupBy(F.substring(column, 1, 1).alias(column)).count().show()"
   ]
  },
  {
   "cell_type": "markdown",
   "metadata": {},
   "source": [
    "### Pergunta 4\n",
    "\n"
   ]
  },
  {
   "cell_type": "code",
   "execution_count": 53,
   "metadata": {},
   "outputs": [
    {
     "name": "stdout",
     "output_type": "stream",
     "text": [
      "+-----------------+-----+\n",
      "|qa_year_month_day|count|\n",
      "+-----------------+-----+\n",
      "+-----------------+-----+\n",
      "\n",
      "+--------------+-----+\n",
      "|qa_hour_minute|count|\n",
      "+--------------+-----+\n",
      "+--------------+-----+\n",
      "\n",
      "+---------------+-----+\n",
      "|qa_dep_arr_time|count|\n",
      "+---------------+-----+\n",
      "|              F|  241|\n",
      "+---------------+-----+\n",
      "\n",
      "+----------------+-----+\n",
      "|qa_dep_arr_delay|count|\n",
      "+----------------+-----+\n",
      "+----------------+-----+\n",
      "\n",
      "+----------+-----+\n",
      "|qa_carrier|count|\n",
      "+----------+-----+\n",
      "+----------+-----+\n",
      "\n",
      "+----------+-----+\n",
      "|qa_tailnum|count|\n",
      "+----------+-----+\n",
      "|         F|  989|\n",
      "+----------+-----+\n",
      "\n",
      "+---------+-----+\n",
      "|qa_flight|count|\n",
      "+---------+-----+\n",
      "|        F| 6158|\n",
      "+---------+-----+\n",
      "\n",
      "+--------------+-----+\n",
      "|qa_origin_dest|count|\n",
      "+--------------+-----+\n",
      "+--------------+-----+\n",
      "\n",
      "+-----------+-----+\n",
      "|qa_air_time|count|\n",
      "+-----------+-----+\n",
      "+-----------+-----+\n",
      "\n",
      "+-----------+-----+\n",
      "|qa_distance|count|\n",
      "+-----------+-----+\n",
      "+-----------+-----+\n",
      "\n",
      "+-------------------+-----+\n",
      "|qa_distance_airtime|count|\n",
      "+-------------------+-----+\n",
      "+-------------------+-----+\n",
      "\n",
      "+------------+-----+\n",
      "|qa_tailnum_P|count|\n",
      "+------------+-----+\n",
      "|           F|  552|\n",
      "+------------+-----+\n",
      "\n",
      "+-------+-----+\n",
      "|qa_year|count|\n",
      "+-------+-----+\n",
      "+-------+-----+\n",
      "\n",
      "+-------+-----+\n",
      "|qa_type|count|\n",
      "+-------+-----+\n",
      "+-------+-----+\n",
      "\n",
      "+---------------+-----+\n",
      "|qa_manufacturer|count|\n",
      "+---------------+-----+\n",
      "+---------------+-----+\n",
      "\n",
      "+--------+-----+\n",
      "|qa_model|count|\n",
      "+--------+-----+\n",
      "|       F|    9|\n",
      "+--------+-----+\n",
      "\n",
      "+----------+-----+\n",
      "|qa_engines|count|\n",
      "+----------+-----+\n",
      "+----------+-----+\n",
      "\n",
      "+--------+-----+\n",
      "|qa_seats|count|\n",
      "+--------+-----+\n",
      "+--------+-----+\n",
      "\n",
      "+--------+-----+\n",
      "|qa_speed|count|\n",
      "+--------+-----+\n",
      "+--------+-----+\n",
      "\n",
      "+---------+-----+\n",
      "|qa_engine|count|\n",
      "+---------+-----+\n",
      "+---------+-----+\n",
      "\n",
      "+------+-----+\n",
      "|qa_faa|count|\n",
      "+------+-----+\n",
      "|     F|10000|\n",
      "+------+-----+\n",
      "\n",
      "+-------+-----+\n",
      "|qa_name|count|\n",
      "+-------+-----+\n",
      "+-------+-----+\n",
      "\n",
      "+------+-----+\n",
      "|qa_lat|count|\n",
      "+------+-----+\n",
      "+------+-----+\n",
      "\n",
      "+------+-----+\n",
      "|qa_lon|count|\n",
      "+------+-----+\n",
      "+------+-----+\n",
      "\n",
      "+------+-----+\n",
      "|qa_alt|count|\n",
      "+------+-----+\n",
      "+------+-----+\n",
      "\n",
      "+-----+-----+\n",
      "|qa_tz|count|\n",
      "+-----+-----+\n",
      "+-----+-----+\n",
      "\n",
      "+------+-----+\n",
      "|qa_dst|count|\n",
      "+------+-----+\n",
      "+------+-----+\n",
      "\n",
      "+--------+-----+\n",
      "|qa_faa_1|count|\n",
      "+--------+-----+\n",
      "|       F|10000|\n",
      "+--------+-----+\n",
      "\n",
      "+---------+-----+\n",
      "|qa_name_1|count|\n",
      "+---------+-----+\n",
      "+---------+-----+\n",
      "\n",
      "+--------+-----+\n",
      "|qa_lat_1|count|\n",
      "+--------+-----+\n",
      "+--------+-----+\n",
      "\n",
      "+--------+-----+\n",
      "|qa_lon_1|count|\n",
      "+--------+-----+\n",
      "+--------+-----+\n",
      "\n",
      "+--------+-----+\n",
      "|qa_alt_1|count|\n",
      "+--------+-----+\n",
      "+--------+-----+\n",
      "\n",
      "+-------+-----+\n",
      "|qa_tz_1|count|\n",
      "+-------+-----+\n",
      "+-------+-----+\n",
      "\n",
      "+--------+-----+\n",
      "|qa_dst_1|count|\n",
      "+--------+-----+\n",
      "+--------+-----+\n",
      "\n"
     ]
    }
   ],
   "source": [
    "for c in df.columns:\n",
    "    if 'qa' in c:\n",
    "        df.filter((F.col(c)!='') & (F.col(c).startswith('F'))).groupBy(F.substring(c, 1, 1).alias(c)).count().show()"
   ]
  },
  {
   "cell_type": "markdown",
   "metadata": {},
   "source": [
    "### Pergunta 5\n",
    "\n"
   ]
  },
  {
   "cell_type": "code",
   "execution_count": 54,
   "metadata": {},
   "outputs": [
    {
     "name": "stdout",
     "output_type": "stream",
     "text": [
      "+-----------------+-----+\n",
      "|qa_year_month_day|count|\n",
      "+-----------------+-----+\n",
      "+-----------------+-----+\n",
      "\n",
      "+--------------+-----+\n",
      "|qa_hour_minute|count|\n",
      "+--------------+-----+\n",
      "+--------------+-----+\n",
      "\n",
      "+---------------+-----+\n",
      "|qa_dep_arr_time|count|\n",
      "+---------------+-----+\n",
      "+---------------+-----+\n",
      "\n",
      "+----------------+-----+\n",
      "|qa_dep_arr_delay|count|\n",
      "+----------------+-----+\n",
      "+----------------+-----+\n",
      "\n",
      "+----------+-----+\n",
      "|qa_carrier|count|\n",
      "+----------+-----+\n",
      "+----------+-----+\n",
      "\n",
      "+----------+-----+\n",
      "|qa_tailnum|count|\n",
      "+----------+-----+\n",
      "+----------+-----+\n",
      "\n",
      "+---------+-----+\n",
      "|qa_flight|count|\n",
      "+---------+-----+\n",
      "+---------+-----+\n",
      "\n",
      "+--------------+-----+\n",
      "|qa_origin_dest|count|\n",
      "+--------------+-----+\n",
      "+--------------+-----+\n",
      "\n",
      "+-----------+-----+\n",
      "|qa_air_time|count|\n",
      "+-----------+-----+\n",
      "+-----------+-----+\n",
      "\n",
      "+-----------+-----+\n",
      "|qa_distance|count|\n",
      "+-----------+-----+\n",
      "+-----------+-----+\n",
      "\n",
      "+-------------------+-----+\n",
      "|qa_distance_airtime|count|\n",
      "+-------------------+-----+\n",
      "+-------------------+-----+\n",
      "\n",
      "+------------+-----+\n",
      "|qa_tailnum_P|count|\n",
      "+------------+-----+\n",
      "+------------+-----+\n",
      "\n",
      "+-------+-----+\n",
      "|qa_year|count|\n",
      "+-------+-----+\n",
      "|      I|    8|\n",
      "+-------+-----+\n",
      "\n",
      "+-------+-----+\n",
      "|qa_type|count|\n",
      "+-------+-----+\n",
      "+-------+-----+\n",
      "\n",
      "+---------------+-----+\n",
      "|qa_manufacturer|count|\n",
      "+---------------+-----+\n",
      "+---------------+-----+\n",
      "\n",
      "+--------+-----+\n",
      "|qa_model|count|\n",
      "+--------+-----+\n",
      "+--------+-----+\n",
      "\n",
      "+----------+-----+\n",
      "|qa_engines|count|\n",
      "+----------+-----+\n",
      "+----------+-----+\n",
      "\n",
      "+--------+-----+\n",
      "|qa_seats|count|\n",
      "+--------+-----+\n",
      "+--------+-----+\n",
      "\n",
      "+--------+-----+\n",
      "|qa_speed|count|\n",
      "+--------+-----+\n",
      "+--------+-----+\n",
      "\n",
      "+---------+-----+\n",
      "|qa_engine|count|\n",
      "+---------+-----+\n",
      "+---------+-----+\n",
      "\n",
      "+------+-----+\n",
      "|qa_faa|count|\n",
      "+------+-----+\n",
      "+------+-----+\n",
      "\n",
      "+-------+-----+\n",
      "|qa_name|count|\n",
      "+-------+-----+\n",
      "+-------+-----+\n",
      "\n",
      "+------+-----+\n",
      "|qa_lat|count|\n",
      "+------+-----+\n",
      "+------+-----+\n",
      "\n",
      "+------+-----+\n",
      "|qa_lon|count|\n",
      "+------+-----+\n",
      "+------+-----+\n",
      "\n",
      "+------+-----+\n",
      "|qa_alt|count|\n",
      "+------+-----+\n",
      "+------+-----+\n",
      "\n",
      "+-----+-----+\n",
      "|qa_tz|count|\n",
      "+-----+-----+\n",
      "+-----+-----+\n",
      "\n",
      "+------+-----+\n",
      "|qa_dst|count|\n",
      "+------+-----+\n",
      "+------+-----+\n",
      "\n",
      "+--------+-----+\n",
      "|qa_faa_1|count|\n",
      "+--------+-----+\n",
      "+--------+-----+\n",
      "\n",
      "+---------+-----+\n",
      "|qa_name_1|count|\n",
      "+---------+-----+\n",
      "+---------+-----+\n",
      "\n",
      "+--------+-----+\n",
      "|qa_lat_1|count|\n",
      "+--------+-----+\n",
      "+--------+-----+\n",
      "\n",
      "+--------+-----+\n",
      "|qa_lon_1|count|\n",
      "+--------+-----+\n",
      "+--------+-----+\n",
      "\n",
      "+--------+-----+\n",
      "|qa_alt_1|count|\n",
      "+--------+-----+\n",
      "+--------+-----+\n",
      "\n",
      "+-------+-----+\n",
      "|qa_tz_1|count|\n",
      "+-------+-----+\n",
      "+-------+-----+\n",
      "\n",
      "+--------+-----+\n",
      "|qa_dst_1|count|\n",
      "+--------+-----+\n",
      "+--------+-----+\n",
      "\n"
     ]
    }
   ],
   "source": [
    "for c in df.columns:\n",
    "    if 'qa' in c:\n",
    "        df.filter((F.col(c)!='') & (F.col(c).startswith('I'))).groupBy(F.substring(c, 1, 1).alias(c)).count().show()"
   ]
  },
  {
   "cell_type": "markdown",
   "metadata": {},
   "source": []
  },
  {
   "cell_type": "markdown",
   "metadata": {},
   "source": [
    "### Relatório - Negócios"
   ]
  },
  {
   "cell_type": "code",
   "execution_count": null,
   "metadata": {},
   "outputs": [],
   "source": [
    "df_airports_bu = (spark.getOrCreate().read\n",
    "                  .format(\"parquet\")\n",
    "                  .option(\"header\", \"true\")\n",
    "                  .load(\"C:/Users/danisant/parquets/airports_proc.parquet\"))\n",
    "\n",
    "df_planes_bu = (spark.getOrCreate().read\n",
    "                  .format(\"parquet\")\n",
    "                  .option(\"header\", \"true\")\n",
    "                  .load(\"C:/Users/danisant/parquets/planes_proc.parquet\"))\n",
    "\n",
    "df_flights_bu = (spark.getOrCreate().read\n",
    "                  .format(\"parquet\")\n",
    "                  .option(\"header\", \"true\")\n",
    "                  .load(\"C:/Users/danisant/parquets/flights_proc.parquet\"))"
   ]
  },
  {
   "cell_type": "markdown",
   "metadata": {},
   "source": [
    "### Pergunta 1"
   ]
  },
  {
   "cell_type": "code",
   "execution_count": null,
   "metadata": {},
   "outputs": [],
   "source": [
    "df_flights_bu = df_flights_bu.select(*(F.col(x).alias('fl_' + x ) for x in df_flights_bu.columns))\n",
    "\n",
    "df_planes_bu = df_planes_bu.select(*(F.col(x).alias('pl_' + x ) for x in df_planes_bu.columns))\n",
    "\n",
    "\n",
    "df_airports_bu = df_airports_bu.select(*(F.col(x).alias('air_' + x ) for x in df_airports_bu.columns))"
   ]
  },
  {
   "cell_type": "code",
   "execution_count": null,
   "metadata": {},
   "outputs": [],
   "source": [
    "df_flights_bu.printSchema()\n",
    "df_planes_bu.printSchema()\n",
    "df_airports_bu.printSchema()"
   ]
  },
  {
   "cell_type": "code",
   "execution_count": null,
   "metadata": {},
   "outputs": [],
   "source": [
    "\n",
    "\n",
    "\n",
    "df = df_flights_bu.join(df_planes_bu,\n",
    "            df_flights_bu.fl_tailnum == df_planes_bu.pl_tailnum,\n",
    "            \"left\")\n",
    "\n",
    "df = df.join(df_airports_bu,\n",
    "                        df_flights_bu.fl_origin == df_airports_bu.air_faa,\n",
    "                       \"left\")\n",
    "\n",
    "df_airports_bu_1 = (df_airports_bu\n",
    "      \n",
    "                    .withColumnRenamed(\"air_faa\",\"air2_faa\")\n",
    "                    .withColumnRenamed(\"air_alt\",\"air2_alt\")\n",
    "                    .withColumnRenamed(\"air_lat\",\"air2_lat\")\n",
    "                    .withColumnRenamed(\"air_lon\",\"air2_lon\")\n",
    "                    .withColumnRenamed(\"air_dst\",\"air2_dst\")\n",
    "                    .withColumnRenamed(\"air_tz\",\"air2_tz\")\n",
    "                   .withColumnRenamed(\"air_region\",\"air2_region\")\n",
    "                   .withColumnRenamed(\"air_name\",\"air2_name\")\n",
    "                   )\n",
    "         \n",
    "\n",
    "df = df.join(df_airports_bu_1,\n",
    "                       df_flights_bu.fl_dest == df_airports_bu_1.air2_faa,\n",
    "                       \"left\")\n",
    "\n",
    "\n"
   ]
  },
  {
   "cell_type": "code",
   "execution_count": null,
   "metadata": {},
   "outputs": [],
   "source": [
    "row = df.count()\n",
    "col = len(df.columns)\n",
    "print(f'Number of Rows are: {row}')\n",
    "print(f'Number of Columns are: {col}')\n"
   ]
  },
  {
   "cell_type": "markdown",
   "metadata": {},
   "source": [
    "### Pergunta 2"
   ]
  },
  {
   "cell_type": "code",
   "execution_count": null,
   "metadata": {},
   "outputs": [],
   "source": [
    "df2 = df.groupBy('air2_region').agg(F.expr('count(distinct air2_name)').alias('Airports/region')).show()"
   ]
  },
  {
   "cell_type": "markdown",
   "metadata": {},
   "source": [
    "### Pergunta 3"
   ]
  },
  {
   "cell_type": "code",
   "execution_count": null,
   "metadata": {},
   "outputs": [],
   "source": [
    "df3 = df.agg(F.max(F.col('air_alt')-F.col('air2_alt')).alias(\"TOP alt difference\")).show()\n"
   ]
  },
  {
   "cell_type": "markdown",
   "metadata": {},
   "source": [
    "### Pergunta 4"
   ]
  },
  {
   "cell_type": "code",
   "execution_count": null,
   "metadata": {},
   "outputs": [],
   "source": [
    "df4 = df.withColumn('sum_delay', F.col('fl_dep_delay') + F.col('fl_arr_delay'))\n",
    "\n",
    "#df4 = df4.groupby(['fl_carrier']).agg({'sum_delay':'mean'}).show()\n",
    "\n",
    "df4.filter((df.fl_dep_delay > 0) | (df.fl_arr_delay > 0) ).agg({\"sum_delay\" : \"avg\"}).show()"
   ]
  },
  {
   "cell_type": "markdown",
   "metadata": {},
   "source": [
    "### Pergunta 5"
   ]
  },
  {
   "cell_type": "code",
   "execution_count": null,
   "metadata": {},
   "outputs": [],
   "source": [
    "df5 = df.groupby(['air2_region']).agg({'fl_arr_delay':'mean','fl_dep_delay':'mean'}).show()"
   ]
  },
  {
   "cell_type": "markdown",
   "metadata": {},
   "source": [
    "### Pergunta 6"
   ]
  },
  {
   "cell_type": "code",
   "execution_count": null,
   "metadata": {},
   "outputs": [],
   "source": [
    "#df6 = df.groupby(F.year(F.col('fl_dep_datetime'))).agg({'fl_arr_delay':'sum','fl_dep_delay':'sum'}).show()\n",
    "df6 = df.withColumn('sum_delay', F.col('fl_dep_delay') + F.col('fl_arr_delay'))\n",
    "\n",
    "df6.filter((df.fl_dep_delay > 0) | (df.fl_arr_delay > 0) ).groupBy(F.year('fl_dep_datetime')).sum('sum_delay').show()"
   ]
  },
  {
   "cell_type": "markdown",
   "metadata": {},
   "source": [
    "### Pergunta 7"
   ]
  },
  {
   "cell_type": "code",
   "execution_count": null,
   "metadata": {},
   "outputs": [],
   "source": [
    "regs = ['ALASKA','MAINLAND-EAST','MAINLAND-WEST']\n",
    "\n",
    "df7 = df.filter((df.fl_dep_delay > 0) | (df.fl_arr_delay > 0) ).filter(F.col('air2_region').isin(regs))\n",
    "df7_origin = (df\n",
    "                       .filter((df.fl_dep_delay > 0) | (df.fl_arr_delay > 0) )\n",
    "                       .groupBy(F.col('air2_region'), F.year(F.col('fl_dep_datetime')))\n",
    "                       .sum('fl_dep_delay'))\n",
    "\n",
    "df7_dest = (df\n",
    "                     .filter((df.fl_dep_delay > 0) | (df.fl_arr_delay > 0) )\n",
    "                     .groupBy(F.col('air2_region'), F.year(F.col('fl_dep_datetime')))\n",
    "                     .sum('fl_arr_delay'))\n",
    "\n",
    "df7_origin.show()\n",
    "df7_dest.show()\n",
    "\n",
    "\n",
    "\n"
   ]
  },
  {
   "cell_type": "markdown",
   "metadata": {},
   "source": [
    "### Pergunta 8"
   ]
  },
  {
   "cell_type": "code",
   "execution_count": null,
   "metadata": {},
   "outputs": [],
   "source": [
    "df8 = df.agg({\"fl_air_time\" : \"avg\"}).show()\n"
   ]
  },
  {
   "cell_type": "markdown",
   "metadata": {},
   "source": [
    "### Pergunta 9"
   ]
  },
  {
   "cell_type": "code",
   "execution_count": null,
   "metadata": {},
   "outputs": [],
   "source": [
    "df9 = df.groupBy('air2_region').avg('fl_air_time').show()"
   ]
  },
  {
   "cell_type": "markdown",
   "metadata": {},
   "source": [
    "### Pergunta 10"
   ]
  },
  {
   "cell_type": "code",
   "execution_count": null,
   "metadata": {},
   "outputs": [],
   "source": [
    "df10 = df.groupby(['fl_origin','fl_dest']).agg({'fl_air_time':'mean'}).show()"
   ]
  },
  {
   "cell_type": "markdown",
   "metadata": {},
   "source": [
    "### Pergunta 11"
   ]
  },
  {
   "cell_type": "code",
   "execution_count": null,
   "metadata": {},
   "outputs": [],
   "source": [
    "df.agg({'fl_air_time' : 'sum'}).show()"
   ]
  },
  {
   "cell_type": "markdown",
   "metadata": {},
   "source": [
    "### Pergunta 12"
   ]
  },
  {
   "cell_type": "code",
   "execution_count": null,
   "metadata": {},
   "outputs": [],
   "source": [
    "df.groupBy('air2_region').sum('fl_air_time').show()"
   ]
  },
  {
   "cell_type": "markdown",
   "metadata": {},
   "source": [
    "### Pergunta 13"
   ]
  },
  {
   "cell_type": "code",
   "execution_count": null,
   "metadata": {},
   "outputs": [],
   "source": [
    "df.agg({'fl_distance': 'avg'}).show()"
   ]
  },
  {
   "cell_type": "markdown",
   "metadata": {},
   "source": [
    "### Pergunta 14"
   ]
  },
  {
   "cell_type": "code",
   "execution_count": null,
   "metadata": {},
   "outputs": [],
   "source": [
    "df.groupBy('air2_region').avg('fl_distance').show()"
   ]
  },
  {
   "cell_type": "markdown",
   "metadata": {},
   "source": [
    "### Pergunta 15"
   ]
  },
  {
   "cell_type": "code",
   "execution_count": null,
   "metadata": {},
   "outputs": [],
   "source": [
    "df.groupBy('air_faa','air2_faa').avg('fl_distance').show()"
   ]
  },
  {
   "cell_type": "markdown",
   "metadata": {},
   "source": [
    "### Pergunta 16"
   ]
  },
  {
   "cell_type": "code",
   "execution_count": null,
   "metadata": {},
   "outputs": [],
   "source": [
    "df.groupBy(F.year(F.col('fl_dep_datetime'))).sum('fl_distance').show()"
   ]
  },
  {
   "cell_type": "markdown",
   "metadata": {},
   "source": [
    "### Pergunta 17"
   ]
  },
  {
   "cell_type": "code",
   "execution_count": null,
   "metadata": {},
   "outputs": [],
   "source": [
    "df.groupBy('air2_region').sum('fl_distance').show()"
   ]
  },
  {
   "cell_type": "markdown",
   "metadata": {},
   "source": [
    "### Pergunta 18"
   ]
  },
  {
   "cell_type": "code",
   "execution_count": null,
   "metadata": {},
   "outputs": [],
   "source": [
    "df_seats_avg = df.groupBy('air_faa','air2_faa').avg('pl_seats')\n",
    "df_seats_avg = df_seats_avg.withColumn('avg(pl_seats)', F.ceil(F.col('avg(pl_seats)')))\n",
    "df_seats_avg.show()"
   ]
  },
  {
   "cell_type": "markdown",
   "metadata": {},
   "source": [
    "### Pergunta 19"
   ]
  },
  {
   "cell_type": "code",
   "execution_count": null,
   "metadata": {},
   "outputs": [],
   "source": [
    "df.groupBy(F.year(F.col('fl_dep_datetime'))).sum('pl_seats').show()"
   ]
  },
  {
   "cell_type": "markdown",
   "metadata": {},
   "source": [
    "### Pergunta 20"
   ]
  },
  {
   "cell_type": "code",
   "execution_count": null,
   "metadata": {},
   "outputs": [],
   "source": [
    "df.groupBy('air2_faa').count().orderBy(F.col('count').desc()).show()"
   ]
  },
  {
   "cell_type": "markdown",
   "metadata": {},
   "source": [
    "### Pergunta 21"
   ]
  },
  {
   "cell_type": "code",
   "execution_count": null,
   "metadata": {},
   "outputs": [],
   "source": [
    "df.groupBy('air_faa').count().orderBy(F.col('count').desc()).show()"
   ]
  },
  {
   "cell_type": "markdown",
   "metadata": {},
   "source": [
    "### Pergunta 22"
   ]
  },
  {
   "cell_type": "code",
   "execution_count": null,
   "metadata": {},
   "outputs": [],
   "source": [
    "(df.select('air_faa','air2_faa','fl_distance')\n",
    ".filter((F.col('air_faa') == 'PDX')| (F.col('air2_faa') == 'PDX'))\n",
    ".orderBy(F.col('fl_distance').desc()).show())"
   ]
  },
  {
   "cell_type": "markdown",
   "metadata": {},
   "source": [
    "### Pergunta 23"
   ]
  },
  {
   "cell_type": "code",
   "execution_count": null,
   "metadata": {},
   "outputs": [],
   "source": [
    "(df.groupBy(F.month(F.col('fl_dep_datetime')), F.col('air2_faa'))\n",
    " .count().orderBy(F.col('count').desc()).show())"
   ]
  },
  {
   "cell_type": "markdown",
   "metadata": {},
   "source": [
    "### Pergunta 24"
   ]
  },
  {
   "cell_type": "code",
   "execution_count": null,
   "metadata": {},
   "outputs": [],
   "source": [
    "df.groupBy('pl_model').count().orderBy(F.col('count').desc()).show()"
   ]
  },
  {
   "cell_type": "markdown",
   "metadata": {},
   "source": [
    "### Pergunta 25"
   ]
  },
  {
   "cell_type": "code",
   "execution_count": null,
   "metadata": {},
   "outputs": [],
   "source": [
    "(df.filter(F.col('pl_model').isNotNull()).groupBy('pl_model','air2_faa')\n",
    " .count().orderBy(F.col('count').desc()).show())"
   ]
  },
  {
   "cell_type": "markdown",
   "metadata": {},
   "source": [
    "### Pergunta 26"
   ]
  },
  {
   "cell_type": "code",
   "execution_count": null,
   "metadata": {},
   "outputs": [],
   "source": [
    "df_haul_duration = df.groupBy('fl_haul_duration').avg('pl_engines')\n",
    "df_haul_duration = df_haul_duration.withColumn('avg(pl_engines)',\n",
    "                                               F.ceil(F.col('avg(pl_engines)')))\n",
    "df_haul_duration.show()"
   ]
  },
  {
   "cell_type": "markdown",
   "metadata": {},
   "source": [
    "### Pergunta 27"
   ]
  },
  {
   "cell_type": "code",
   "execution_count": null,
   "metadata": {},
   "outputs": [],
   "source": [
    "df.groupBy('fl_dep_season').count().orderBy(F.col('count').desc()).show()"
   ]
  },
  {
   "cell_type": "markdown",
   "metadata": {},
   "source": [
    "### Pergunta 28"
   ]
  },
  {
   "cell_type": "code",
   "execution_count": null,
   "metadata": {},
   "outputs": [],
   "source": [
    "df.groupBy('fl_dep_season','air2_faa').count().orderBy(F.col('count').desc()).show()"
   ]
  },
  {
   "cell_type": "markdown",
   "metadata": {},
   "source": [
    "### Pergunta 29"
   ]
  },
  {
   "cell_type": "code",
   "execution_count": null,
   "metadata": {},
   "outputs": [],
   "source": [
    "\n",
    "df.groupBy('fl_dep_delay_category').count().orderBy(F.col('count').desc()).show()"
   ]
  },
  {
   "cell_type": "markdown",
   "metadata": {},
   "source": [
    "### Pergunta 30"
   ]
  },
  {
   "cell_type": "code",
   "execution_count": null,
   "metadata": {},
   "outputs": [],
   "source": [
    "(df.filter(F.col('fl_dep_delay_category').isNotNull()).groupBy('air_faa','air2_faa')\n",
    " .count().orderBy(F.col('count').desc()).show())"
   ]
  }
 ],
 "metadata": {
  "datalore": {
   "base_environment": "default",
   "computation_mode": "JUPYTER",
   "package_manager": "pip",
   "packages": [],
   "version": 1
  },
  "kernelspec": {
   "display_name": "Python 3 (ipykernel)",
   "language": "python",
   "name": "python3"
  },
  "language_info": {
   "codemirror_mode": {
    "name": "ipython",
    "version": 3
   },
   "file_extension": ".py",
   "mimetype": "text/x-python",
   "name": "python",
   "nbconvert_exporter": "python",
   "pygments_lexer": "ipython3",
   "version": "3.9.7"
  }
 },
 "nbformat": 4,
 "nbformat_minor": 4
}
